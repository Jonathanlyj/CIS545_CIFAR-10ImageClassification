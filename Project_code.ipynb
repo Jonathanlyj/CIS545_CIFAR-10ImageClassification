{
 "cells": [
  {
   "cell_type": "markdown",
   "metadata": {},
   "source": [
    "# CNN"
   ]
  },
  {
   "cell_type": "code",
   "execution_count": 1,
   "metadata": {},
   "outputs": [
    {
     "name": "stderr",
     "output_type": "stream",
     "text": [
      "/usr/local/lib/python3.5/dist-packages/h5py/__init__.py:36: FutureWarning: Conversion of the second argument of issubdtype from `float` to `np.floating` is deprecated. In future, it will be treated as `np.float64 == np.dtype(float).type`.\n",
      "  from ._conv import register_converters as _register_converters\n",
      "Using TensorFlow backend.\n"
     ]
    }
   ],
   "source": [
    "import matplotlib.pyplot as plt\n",
    "import keras\n",
    "from keras.datasets import cifar10\n",
    "from keras.models import Sequential\n",
    "from keras.layers import Dense, Dropout,Activation, Flatten, Conv2D, MaxPooling2D, BatchNormalization\n",
    "num_classes = 10"
   ]
  },
  {
   "cell_type": "code",
   "execution_count": 119,
   "metadata": {},
   "outputs": [],
   "source": [
    "(x_train, y_train), (x_test, y_test) = cifar10.load_data()"
   ]
  },
  {
   "cell_type": "code",
   "execution_count": 120,
   "metadata": {},
   "outputs": [],
   "source": [
    "import numpy as np\n",
    "from sklearn.model_selection import train_test_split\n",
    "np.random.seed(2)\n",
    "random_seed = 2\n",
    "x_train, x_val, y_train, y_val = train_test_split(x_train, y_train, test_size = 0.1, random_state=random_seed)"
   ]
  },
  {
   "cell_type": "code",
   "execution_count": 121,
   "metadata": {},
   "outputs": [],
   "source": [
    "# normalize\n",
    "x_train = x_train.astype('float32')/255\n",
    "x_val = x_val.astype('float32')/255\n",
    "x_test = x_test.astype('float32')/255"
   ]
  },
  {
   "cell_type": "code",
   "execution_count": 122,
   "metadata": {},
   "outputs": [],
   "source": [
    "# one hot encode to binary\n",
    "y_train = keras.utils.to_categorical(y_train, 10)\n",
    "y_val = keras.utils.to_categorical(y_val, 10)\n",
    "y_test = keras.utils.to_categorical(y_test, 10)"
   ]
  },
  {
   "cell_type": "code",
   "execution_count": 123,
   "metadata": {},
   "outputs": [],
   "source": [
    "def plot_model_history(model_history):\n",
    "    fig, axs = plt.subplots(1, 2, figsize = (15, 5))\n",
    "    \n",
    "    # Summarize history for Accuracy\n",
    "    axs[0].plot(range(1, len(model_history.history['acc']) + 1) ,model_history.history['acc'])\n",
    "    axs[0].plot(range(1, len(model_history.history['val_acc']) + 1), model_history.history['val_acc'])\n",
    "    axs[0].set_title('Model Accuracy')\n",
    "    axs[0].set_ylabel('Accuracy')\n",
    "    axs[0].set_xlabel('Epoch')\n",
    "    axs[0].set_xticks(np.arange(1, len(model_history.history['acc']) + 1), len(model_history.history['acc'])/10)\n",
    "    axs[0].legend(['train', 'val'], loc = 'best')\n",
    "    \n",
    "    # Summarize history for Loss\n",
    "    axs[1].plot(range(1, len(model_history.history['loss']) + 1), model_history.history['loss'])\n",
    "    axs[1].plot(range(1, len(model_history.history['val_loss']) + 1), model_history.history['val_loss'])\n",
    "    axs[1].set_title('Model Loss')\n",
    "    axs[1].set_ylabel('Loss')\n",
    "    axs[1].set_xlabel('Epoch')\n",
    "    axs[1].set_xticks(np.arange(1, len(model_history.history['loss']) + 1), len(model_history.history['loss'])/10)\n",
    "    axs[1].legend(['train', 'val'], loc = 'best')\n",
    "    plt.show()"
   ]
  },
  {
   "cell_type": "code",
   "execution_count": 124,
   "metadata": {},
   "outputs": [],
   "source": [
    "def compare(model2, model3):\n",
    "    fig, axs = plt.subplots(1, 2, figsize = (15, 5))\n",
    "    axs[0].plot(range(1, len(model2.history['acc']) + 1) ,model2.history['acc'])\n",
    "    axs[0].plot(range(1, len(model3.history['acc']) + 1) ,model3.history['acc'])\n",
    "    axs[0].set_title('Model Accuracy')\n",
    "    axs[0].set_ylabel('Accuracy')\n",
    "    axs[0].set_xlabel('Epoch Number')\n",
    "    axs[0].set_xticks(np.arange(1, len(model2.history['acc']) + 1), len(model2.history['acc'])/10)\n",
    "    axs[0].legend(['model2', 'model3'], loc = 'best')\n",
    "    \n",
    "    axs[1].plot(range(1, len(model2.history['loss']) + 1) ,model2.history['loss'])\n",
    "    axs[1].plot(range(1, len(model3.history['loss']) + 1) ,model3.history['loss'])\n",
    "    axs[1].set_title('Model Loss')\n",
    "    axs[1].set_ylabel('Loss')\n",
    "    axs[1].set_xlabel('Epoch Number')\n",
    "    axs[1].set_xticks(np.arange(1, len(model2.history['loss']) + 1), len(model2.history['loss'])/10)\n",
    "    axs[1].legend(['model2', 'model3'], loc = 'best')\n",
    "    plt.show()\n"
   ]
  },
  {
   "cell_type": "markdown",
   "metadata": {},
   "source": [
    "## Simple"
   ]
  },
  {
   "cell_type": "code",
   "execution_count": 49,
   "metadata": {},
   "outputs": [],
   "source": [
    "batch_size = 32 \n",
    "num_epochs = 50 \n",
    "kernel_size = 3 \n",
    "pool_size = 2 \n",
    "conv_depth_1 = 8 \n",
    "conv_depth_2 = 16  \n",
    "conv_depth_3 = 32 \n",
    "drop_prob_1 = 0.2 \n",
    "drop_prob_2 = 0.5 \n",
    "hidden_size = 128 "
   ]
  },
  {
   "cell_type": "code",
   "execution_count": 50,
   "metadata": {},
   "outputs": [],
   "source": [
    "# build CNN model\n",
    "model = Sequential()"
   ]
  },
  {
   "cell_type": "code",
   "execution_count": 51,
   "metadata": {},
   "outputs": [],
   "source": [
    "# C1: 32 * 32 * 3 -> 32 * 32 * 8\n",
    "model.add(Conv2D(conv_depth_1, (kernel_size, kernel_size),  padding='same', input_shape=x_train.shape[1:]))\n",
    "model.add(Activation('relu'))"
   ]
  },
  {
   "cell_type": "code",
   "execution_count": 52,
   "metadata": {},
   "outputs": [],
   "source": [
    "# P1: 32 * 32 * 8 -> 16 * 16 * 8\n",
    "model.add(MaxPooling2D((pool_size, pool_size)))\n",
    "model.add(Dropout(drop_prob_1))"
   ]
  },
  {
   "cell_type": "code",
   "execution_count": 53,
   "metadata": {},
   "outputs": [],
   "source": [
    "# C2: 16 * 16 * 8 -> 16 * 16 * 16\n",
    "model.add(Conv2D(conv_depth_2, (kernel_size, kernel_size), padding='same'))\n",
    "model.add(Activation('relu'))"
   ]
  },
  {
   "cell_type": "code",
   "execution_count": 54,
   "metadata": {},
   "outputs": [],
   "source": [
    "# P2: 16 * 16 * 16 -> 8 * 8 * 16\n",
    "model.add(MaxPooling2D((pool_size, pool_size)))\n",
    "model.add(Dropout(drop_prob_1))"
   ]
  },
  {
   "cell_type": "code",
   "execution_count": 55,
   "metadata": {},
   "outputs": [],
   "source": [
    "# C3: 8 * 8 * 16 -> 8 * 8 * 32\n",
    "model.add(Conv2D(conv_depth_3, (kernel_size, kernel_size), padding='same'))\n",
    "model.add(Activation('relu'))"
   ]
  },
  {
   "cell_type": "code",
   "execution_count": 56,
   "metadata": {},
   "outputs": [],
   "source": [
    "# P3: 8 * 8 * 32 -> 4 * 4 * 32\n",
    "model.add(MaxPooling2D((pool_size, pool_size)))\n",
    "model.add(Dropout(drop_prob_1))"
   ]
  },
  {
   "cell_type": "code",
   "execution_count": 57,
   "metadata": {},
   "outputs": [],
   "source": [
    "# Flatten to 1* 128\n",
    "model.add(Flatten())\n",
    "model.add(Dense(hidden_size))\n",
    "model.add(Activation('relu'))\n",
    "model.add(Dropout(drop_prob_2))"
   ]
  },
  {
   "cell_type": "code",
   "execution_count": 58,
   "metadata": {},
   "outputs": [],
   "source": [
    "# F2: 1 * 128 -> 1 * 10\n",
    "model.add(Dense(num_classes))\n",
    "model.add(Activation('softmax'))"
   ]
  },
  {
   "cell_type": "code",
   "execution_count": 59,
   "metadata": {},
   "outputs": [],
   "source": [
    "# Defining the optimizer\n",
    "from keras.optimizers import SGD, Adam\n",
    "sgd = SGD(lr = 0.01, momentum = 0.9, decay = 0.01/num_epochs, nesterov = False)\n",
    "adm = Adam(lr = 0.001, beta_1 = 0.9, beta_2 = 0.999, epsilon = 1e-08, decay = 0.001/num_epochs)"
   ]
  },
  {
   "cell_type": "code",
   "execution_count": 60,
   "metadata": {},
   "outputs": [],
   "source": [
    "# Configurating the model for training\n",
    "model.compile(loss = 'categorical_crossentropy', optimizer = adm, metrics = ['accuracy'])"
   ]
  },
  {
   "cell_type": "code",
   "execution_count": 61,
   "metadata": {},
   "outputs": [
    {
     "name": "stdout",
     "output_type": "stream",
     "text": [
      "_________________________________________________________________\n",
      "Layer (type)                 Output Shape              Param #   \n",
      "=================================================================\n",
      "conv2d_7 (Conv2D)            (None, 32, 32, 8)         224       \n",
      "_________________________________________________________________\n",
      "activation_11 (Activation)   (None, 32, 32, 8)         0         \n",
      "_________________________________________________________________\n",
      "max_pooling2d_7 (MaxPooling2 (None, 16, 16, 8)         0         \n",
      "_________________________________________________________________\n",
      "dropout_9 (Dropout)          (None, 16, 16, 8)         0         \n",
      "_________________________________________________________________\n",
      "conv2d_8 (Conv2D)            (None, 16, 16, 16)        1168      \n",
      "_________________________________________________________________\n",
      "activation_12 (Activation)   (None, 16, 16, 16)        0         \n",
      "_________________________________________________________________\n",
      "max_pooling2d_8 (MaxPooling2 (None, 8, 8, 16)          0         \n",
      "_________________________________________________________________\n",
      "dropout_10 (Dropout)         (None, 8, 8, 16)          0         \n",
      "_________________________________________________________________\n",
      "conv2d_9 (Conv2D)            (None, 8, 8, 32)          4640      \n",
      "_________________________________________________________________\n",
      "activation_13 (Activation)   (None, 8, 8, 32)          0         \n",
      "_________________________________________________________________\n",
      "max_pooling2d_9 (MaxPooling2 (None, 4, 4, 32)          0         \n",
      "_________________________________________________________________\n",
      "dropout_11 (Dropout)         (None, 4, 4, 32)          0         \n",
      "_________________________________________________________________\n",
      "flatten_3 (Flatten)          (None, 512)               0         \n",
      "_________________________________________________________________\n",
      "dense_5 (Dense)              (None, 128)               65664     \n",
      "_________________________________________________________________\n",
      "activation_14 (Activation)   (None, 128)               0         \n",
      "_________________________________________________________________\n",
      "dropout_12 (Dropout)         (None, 128)               0         \n",
      "_________________________________________________________________\n",
      "dense_6 (Dense)              (None, 10)                1290      \n",
      "_________________________________________________________________\n",
      "activation_15 (Activation)   (None, 10)                0         \n",
      "=================================================================\n",
      "Total params: 72,986\n",
      "Trainable params: 72,986\n",
      "Non-trainable params: 0\n",
      "_________________________________________________________________\n"
     ]
    }
   ],
   "source": [
    "model.summary()"
   ]
  },
  {
   "cell_type": "code",
   "execution_count": 62,
   "metadata": {},
   "outputs": [
    {
     "name": "stdout",
     "output_type": "stream",
     "text": [
      "WARNING:tensorflow:Variable *= will be deprecated. Use variable.assign_mul if you want assignment to the variable value or 'x = x * y' if you want a new python Tensor object.\n",
      "Train on 45000 samples, validate on 5000 samples\n",
      "Epoch 1/50\n",
      "45000/45000 [==============================] - 42s 928us/step - loss: 1.8175 - acc: 0.3293 - val_loss: 1.5939 - val_acc: 0.4294\n",
      "Epoch 2/50\n",
      "45000/45000 [==============================] - 40s 890us/step - loss: 1.5478 - acc: 0.4361 - val_loss: 1.3660 - val_acc: 0.4976\n",
      "Epoch 3/50\n",
      "45000/45000 [==============================] - 37s 813us/step - loss: 1.4424 - acc: 0.4768 - val_loss: 1.3062 - val_acc: 0.5336\n",
      "Epoch 4/50\n",
      "45000/45000 [==============================] - 37s 822us/step - loss: 1.3793 - acc: 0.4999 - val_loss: 1.2175 - val_acc: 0.5636\n",
      "Epoch 5/50\n",
      "45000/45000 [==============================] - 38s 848us/step - loss: 1.3295 - acc: 0.5211 - val_loss: 1.1728 - val_acc: 0.5796\n",
      "Epoch 6/50\n",
      "45000/45000 [==============================] - 34s 761us/step - loss: 1.2913 - acc: 0.5351 - val_loss: 1.1314 - val_acc: 0.6028\n",
      "Epoch 7/50\n",
      "45000/45000 [==============================] - 32s 721us/step - loss: 1.2654 - acc: 0.5472 - val_loss: 1.1478 - val_acc: 0.5932\n",
      "Epoch 8/50\n",
      "45000/45000 [==============================] - 32s 720us/step - loss: 1.2371 - acc: 0.5579 - val_loss: 1.0618 - val_acc: 0.6268\n",
      "Epoch 9/50\n",
      "45000/45000 [==============================] - 32s 722us/step - loss: 1.2217 - acc: 0.5637 - val_loss: 1.0945 - val_acc: 0.6066\n",
      "Epoch 10/50\n",
      "45000/45000 [==============================] - 33s 744us/step - loss: 1.1971 - acc: 0.5714 - val_loss: 1.1025 - val_acc: 0.6046\n",
      "Epoch 11/50\n",
      "45000/45000 [==============================] - 31s 692us/step - loss: 1.1878 - acc: 0.5801 - val_loss: 1.0887 - val_acc: 0.6108\n",
      "Epoch 12/50\n",
      "45000/45000 [==============================] - 33s 735us/step - loss: 1.1736 - acc: 0.5823 - val_loss: 1.0247 - val_acc: 0.6380\n",
      "Epoch 13/50\n",
      "45000/45000 [==============================] - 34s 761us/step - loss: 1.1652 - acc: 0.5832 - val_loss: 1.0555 - val_acc: 0.6208\n",
      "Epoch 14/50\n",
      "45000/45000 [==============================] - 33s 743us/step - loss: 1.1517 - acc: 0.5906 - val_loss: 1.0090 - val_acc: 0.6380\n",
      "Epoch 15/50\n",
      "45000/45000 [==============================] - 33s 725us/step - loss: 1.1482 - acc: 0.5920 - val_loss: 1.0718 - val_acc: 0.6202\n",
      "Epoch 16/50\n",
      "45000/45000 [==============================] - 33s 725us/step - loss: 1.1291 - acc: 0.6023 - val_loss: 0.9711 - val_acc: 0.6524\n",
      "Epoch 17/50\n",
      "45000/45000 [==============================] - 33s 732us/step - loss: 1.1320 - acc: 0.5996 - val_loss: 0.9819 - val_acc: 0.6478\n",
      "Epoch 18/50\n",
      "45000/45000 [==============================] - 33s 729us/step - loss: 1.1204 - acc: 0.6000 - val_loss: 0.9748 - val_acc: 0.6562\n",
      "Epoch 19/50\n",
      "45000/45000 [==============================] - 33s 728us/step - loss: 1.1162 - acc: 0.6018 - val_loss: 0.9625 - val_acc: 0.6602\n",
      "Epoch 20/50\n",
      "45000/45000 [==============================] - 33s 736us/step - loss: 1.1021 - acc: 0.6069 - val_loss: 0.9650 - val_acc: 0.6604\n",
      "Epoch 21/50\n",
      "45000/45000 [==============================] - 33s 733us/step - loss: 1.0965 - acc: 0.6106 - val_loss: 0.9367 - val_acc: 0.6634\n",
      "Epoch 22/50\n",
      "45000/45000 [==============================] - 32s 721us/step - loss: 1.0890 - acc: 0.6142 - val_loss: 0.9509 - val_acc: 0.6632\n",
      "Epoch 23/50\n",
      "45000/45000 [==============================] - 33s 731us/step - loss: 1.0859 - acc: 0.6133 - val_loss: 0.9533 - val_acc: 0.6604\n",
      "Epoch 24/50\n",
      "45000/45000 [==============================] - 33s 735us/step - loss: 1.0864 - acc: 0.6152 - val_loss: 0.9406 - val_acc: 0.6658\n",
      "Epoch 25/50\n",
      "45000/45000 [==============================] - 36s 795us/step - loss: 1.0767 - acc: 0.6179 - val_loss: 0.9371 - val_acc: 0.6678\n",
      "Epoch 26/50\n",
      "45000/45000 [==============================] - 34s 762us/step - loss: 1.0707 - acc: 0.6230 - val_loss: 0.9159 - val_acc: 0.6722\n",
      "Epoch 27/50\n",
      "45000/45000 [==============================] - 34s 754us/step - loss: 1.0707 - acc: 0.6179 - val_loss: 0.9231 - val_acc: 0.6738\n",
      "Epoch 28/50\n",
      "45000/45000 [==============================] - 35s 775us/step - loss: 1.0634 - acc: 0.6234 - val_loss: 0.9716 - val_acc: 0.6568\n",
      "Epoch 29/50\n",
      "45000/45000 [==============================] - 34s 759us/step - loss: 1.0588 - acc: 0.6269 - val_loss: 0.8962 - val_acc: 0.6834\n",
      "Epoch 30/50\n",
      "45000/45000 [==============================] - 34s 765us/step - loss: 1.0549 - acc: 0.6273 - val_loss: 0.9083 - val_acc: 0.6766\n",
      "Epoch 31/50\n",
      "45000/45000 [==============================] - 37s 833us/step - loss: 1.0536 - acc: 0.6274 - val_loss: 0.8975 - val_acc: 0.6786\n",
      "Epoch 32/50\n",
      "45000/45000 [==============================] - 35s 774us/step - loss: 1.0446 - acc: 0.6306 - val_loss: 0.9239 - val_acc: 0.6662\n",
      "Epoch 33/50\n",
      "45000/45000 [==============================] - 34s 755us/step - loss: 1.0455 - acc: 0.6291 - val_loss: 0.8894 - val_acc: 0.6804\n",
      "Epoch 34/50\n",
      "45000/45000 [==============================] - 34s 755us/step - loss: 1.0415 - acc: 0.6334 - val_loss: 0.8921 - val_acc: 0.6820\n",
      "Epoch 35/50\n",
      "45000/45000 [==============================] - 35s 784us/step - loss: 1.0360 - acc: 0.6318 - val_loss: 0.8749 - val_acc: 0.6952\n",
      "Epoch 36/50\n",
      "45000/45000 [==============================] - 33s 731us/step - loss: 1.0329 - acc: 0.6346 - val_loss: 0.8943 - val_acc: 0.6816\n",
      "Epoch 37/50\n",
      "45000/45000 [==============================] - 33s 741us/step - loss: 1.0298 - acc: 0.6348 - val_loss: 0.8762 - val_acc: 0.6926\n",
      "Epoch 38/50\n",
      "45000/45000 [==============================] - 33s 725us/step - loss: 1.0236 - acc: 0.6386 - val_loss: 0.8710 - val_acc: 0.6910\n",
      "Epoch 39/50\n",
      "45000/45000 [==============================] - 33s 731us/step - loss: 1.0265 - acc: 0.6368 - val_loss: 0.8756 - val_acc: 0.6928\n",
      "Epoch 40/50\n",
      "45000/45000 [==============================] - 33s 724us/step - loss: 1.0242 - acc: 0.6364 - val_loss: 0.8719 - val_acc: 0.6874\n",
      "Epoch 41/50\n",
      "45000/45000 [==============================] - 33s 740us/step - loss: 1.0166 - acc: 0.6410 - val_loss: 0.8932 - val_acc: 0.6836\n",
      "Epoch 42/50\n",
      "45000/45000 [==============================] - 33s 739us/step - loss: 1.0185 - acc: 0.6384 - val_loss: 0.8658 - val_acc: 0.6928\n",
      "Epoch 43/50\n",
      "45000/45000 [==============================] - 33s 730us/step - loss: 1.0133 - acc: 0.6375 - val_loss: 0.8528 - val_acc: 0.6994\n",
      "Epoch 44/50\n",
      "45000/45000 [==============================] - 33s 740us/step - loss: 1.0125 - acc: 0.6418 - val_loss: 0.9077 - val_acc: 0.6772\n",
      "Epoch 45/50\n",
      "45000/45000 [==============================] - 33s 731us/step - loss: 1.0113 - acc: 0.6422 - val_loss: 0.9513 - val_acc: 0.6670\n",
      "Epoch 46/50\n",
      "45000/45000 [==============================] - 33s 739us/step - loss: 1.0046 - acc: 0.6448 - val_loss: 0.8760 - val_acc: 0.6884\n",
      "Epoch 47/50\n",
      "45000/45000 [==============================] - 33s 727us/step - loss: 1.0077 - acc: 0.6441 - val_loss: 0.8563 - val_acc: 0.6962\n",
      "Epoch 48/50\n",
      "45000/45000 [==============================] - 34s 749us/step - loss: 1.0022 - acc: 0.6445 - val_loss: 0.9119 - val_acc: 0.6750\n",
      "Epoch 49/50\n",
      "45000/45000 [==============================] - 34s 748us/step - loss: 1.0045 - acc: 0.6449 - val_loss: 0.8697 - val_acc: 0.6860\n",
      "Epoch 50/50\n",
      "45000/45000 [==============================] - 33s 744us/step - loss: 0.9958 - acc: 0.6488 - val_loss: 0.8935 - val_acc: 0.6832\n",
      "Model took 1699.02 seconds to train\n"
     ]
    }
   ],
   "source": [
    "import time\n",
    "start = time.time()\n",
    "model_hist = model.fit(x_train, y_train, batch_size = batch_size, epochs = num_epochs, verbose = 1, validation_data = (x_val, y_val), shuffle = True) \n",
    "end = time.time()\n",
    "print(\"Model took %0.2f seconds to train\"%(end - start))\n",
    "model.save('cifar10.h5')"
   ]
  },
  {
   "cell_type": "code",
   "execution_count": 64,
   "metadata": {
    "scrolled": false
   },
   "outputs": [
    {
     "name": "stdout",
     "output_type": "stream",
     "text": [
      "Loss on validation set: 0.89\n",
      "Accuracy on validation set: 68.19%\n"
     ]
    },
    {
     "data": {
      "image/png": "[encoded data removed]",
      "text/plain": [
       "<Figure size 1080x360 with 2 Axes>"
      ]
     },
     "metadata": {},
     "output_type": "display_data"
    }
   ],
   "source": [
    "# Evaluating the model\n",
    "evaluation = model.evaluate(x_test, y_test, verbose = 0)\n",
    "print(\"Loss on validation set: %.2f\" % evaluation[0])\n",
    "print(\"Accuracy on validation set: %.2f%%\" % (evaluation[1]*100))\n",
    "\n",
    "# Ploting accuracy and loss for the model\n",
    "plot_model_history(model_hist)"
   ]
  },
  {
   "cell_type": "code",
   "execution_count": null,
   "metadata": {},
   "outputs": [],
   "source": []
  },
  {
   "cell_type": "markdown",
   "metadata": {},
   "source": [
    "## More iteration"
   ]
  },
  {
   "cell_type": "code",
   "execution_count": 65,
   "metadata": {},
   "outputs": [],
   "source": [
    "batch_size = 32 \n",
    "num_epochs = 150\n",
    "kernel_size = 3 \n",
    "pool_size = 2 \n",
    "conv_depth_1 = 8 \n",
    "conv_depth_2 = 16  \n",
    "conv_depth_3 = 32\n",
    "drop_prob_1 = 0.2\n",
    "drop_prob_2 = 0.5 \n",
    "hidden_size = 128"
   ]
  },
  {
   "cell_type": "code",
   "execution_count": 66,
   "metadata": {},
   "outputs": [],
   "source": [
    "# build CNN model\n",
    "model2 = Sequential()"
   ]
  },
  {
   "cell_type": "code",
   "execution_count": 67,
   "metadata": {},
   "outputs": [],
   "source": [
    "# C1: 32 * 32 * 3 -> 32 * 32 * 8\n",
    "model2.add(Conv2D(conv_depth_1, (kernel_size, kernel_size),  padding='same', input_shape=x_train.shape[1:]))\n",
    "model2.add(Activation('relu'))"
   ]
  },
  {
   "cell_type": "code",
   "execution_count": 68,
   "metadata": {},
   "outputs": [],
   "source": [
    "# P1: 32 * 32 * 8 -> 16 * 16 * 8\n",
    "model2.add(MaxPooling2D((pool_size, pool_size)))\n",
    "model2.add(Dropout(drop_prob_1))"
   ]
  },
  {
   "cell_type": "code",
   "execution_count": 69,
   "metadata": {},
   "outputs": [],
   "source": [
    "# C2: 16 * 16 * 8 -> 16 * 16 * 16\n",
    "model2.add(Conv2D(conv_depth_2, (kernel_size, kernel_size), padding='same'))\n",
    "model2.add(Activation('relu'))"
   ]
  },
  {
   "cell_type": "code",
   "execution_count": 70,
   "metadata": {},
   "outputs": [],
   "source": [
    "# P2: 16 * 16 * 16 -> 8 * 8 * 16\n",
    "model2.add(MaxPooling2D((pool_size, pool_size)))\n",
    "model2.add(Dropout(drop_prob_1))"
   ]
  },
  {
   "cell_type": "code",
   "execution_count": 71,
   "metadata": {},
   "outputs": [],
   "source": [
    "# C3: 8 * 8 * 16 -> 8 * 8 * 32\n",
    "model2.add(Conv2D(conv_depth_3, (kernel_size, kernel_size), padding='same'))\n",
    "model2.add(Activation('relu'))"
   ]
  },
  {
   "cell_type": "code",
   "execution_count": 72,
   "metadata": {},
   "outputs": [],
   "source": [
    "# P3: 8 * 8 * 32 -> 4 * 4 * 32\n",
    "model2.add(MaxPooling2D((pool_size, pool_size)))\n",
    "model.add(Dropout(drop_prob_1))"
   ]
  },
  {
   "cell_type": "code",
   "execution_count": 73,
   "metadata": {},
   "outputs": [],
   "source": [
    "# Flatten to 1* 128\n",
    "model2.add(Flatten())\n",
    "model2.add(Dense(hidden_size))\n",
    "model2.add(Activation('relu'))\n",
    "model2.add(Dropout(drop_prob_2))"
   ]
  },
  {
   "cell_type": "code",
   "execution_count": 74,
   "metadata": {},
   "outputs": [],
   "source": [
    "# F2: 1 * 128 -> 1 * 10\n",
    "model2.add(Dense(num_classes))\n",
    "model2.add(Activation('softmax'))"
   ]
  },
  {
   "cell_type": "code",
   "execution_count": 75,
   "metadata": {},
   "outputs": [],
   "source": [
    "# Defining the optimizer\n",
    "from keras.optimizers import SGD, Adam\n",
    "sgd = SGD(lr = 0.01, momentum = 0.9, decay = 0.01/num_epochs, nesterov = False)\n",
    "adm = Adam(lr = 0.001, beta_1 = 0.9, beta_2 = 0.999, epsilon = 1e-08, decay = 0.001/num_epochs)"
   ]
  },
  {
   "cell_type": "code",
   "execution_count": 76,
   "metadata": {},
   "outputs": [],
   "source": [
    "# Configurating the model for training\n",
    "model2.compile(loss = 'categorical_crossentropy', optimizer = adm, metrics = ['accuracy'])"
   ]
  },
  {
   "cell_type": "code",
   "execution_count": 77,
   "metadata": {},
   "outputs": [
    {
     "name": "stdout",
     "output_type": "stream",
     "text": [
      "_________________________________________________________________\n",
      "Layer (type)                 Output Shape              Param #   \n",
      "=================================================================\n",
      "conv2d_10 (Conv2D)           (None, 32, 32, 8)         224       \n",
      "_________________________________________________________________\n",
      "activation_16 (Activation)   (None, 32, 32, 8)         0         \n",
      "_________________________________________________________________\n",
      "max_pooling2d_10 (MaxPooling (None, 16, 16, 8)         0         \n",
      "_________________________________________________________________\n",
      "dropout_13 (Dropout)         (None, 16, 16, 8)         0         \n",
      "_________________________________________________________________\n",
      "conv2d_11 (Conv2D)           (None, 16, 16, 16)        1168      \n",
      "_________________________________________________________________\n",
      "activation_17 (Activation)   (None, 16, 16, 16)        0         \n",
      "_________________________________________________________________\n",
      "max_pooling2d_11 (MaxPooling (None, 8, 8, 16)          0         \n",
      "_________________________________________________________________\n",
      "dropout_14 (Dropout)         (None, 8, 8, 16)          0         \n",
      "_________________________________________________________________\n",
      "conv2d_12 (Conv2D)           (None, 8, 8, 32)          4640      \n",
      "_________________________________________________________________\n",
      "activation_18 (Activation)   (None, 8, 8, 32)          0         \n",
      "_________________________________________________________________\n",
      "max_pooling2d_12 (MaxPooling (None, 4, 4, 32)          0         \n",
      "_________________________________________________________________\n",
      "flatten_4 (Flatten)          (None, 512)               0         \n",
      "_________________________________________________________________\n",
      "dense_7 (Dense)              (None, 128)               65664     \n",
      "_________________________________________________________________\n",
      "activation_19 (Activation)   (None, 128)               0         \n",
      "_________________________________________________________________\n",
      "dropout_16 (Dropout)         (None, 128)               0         \n",
      "_________________________________________________________________\n",
      "dense_8 (Dense)              (None, 10)                1290      \n",
      "_________________________________________________________________\n",
      "activation_20 (Activation)   (None, 10)                0         \n",
      "=================================================================\n",
      "Total params: 72,986\n",
      "Trainable params: 72,986\n",
      "Non-trainable params: 0\n",
      "_________________________________________________________________\n"
     ]
    }
   ],
   "source": [
    "model2.summary()"
   ]
  },
  {
   "cell_type": "code",
   "execution_count": 78,
   "metadata": {
    "scrolled": true
   },
   "outputs": [
    {
     "name": "stdout",
     "output_type": "stream",
     "text": [
      "Train on 45000 samples, validate on 5000 samples\n",
      "Epoch 1/150\n",
      "45000/45000 [==============================] - 38s 855us/step - loss: 1.8306 - acc: 0.3258 - val_loss: 1.5724 - val_acc: 0.4276\n",
      "Epoch 2/150\n",
      "45000/45000 [==============================] - 36s 794us/step - loss: 1.5627 - acc: 0.4306 - val_loss: 1.4840 - val_acc: 0.4614\n",
      "Epoch 3/150\n",
      "45000/45000 [==============================] - 33s 724us/step - loss: 1.4583 - acc: 0.4730 - val_loss: 1.3580 - val_acc: 0.5096\n",
      "Epoch 4/150\n",
      "45000/45000 [==============================] - 40s 884us/step - loss: 1.3914 - acc: 0.5014 - val_loss: 1.3180 - val_acc: 0.5288\n",
      "Epoch 5/150\n",
      "45000/45000 [==============================] - 33s 724us/step - loss: 1.3457 - acc: 0.5162 - val_loss: 1.2225 - val_acc: 0.5652\n",
      "Epoch 6/150\n",
      "45000/45000 [==============================] - 32s 714us/step - loss: 1.3058 - acc: 0.5325 - val_loss: 1.1762 - val_acc: 0.5814\n",
      "Epoch 7/150\n",
      "45000/45000 [==============================] - 33s 728us/step - loss: 1.2734 - acc: 0.5439 - val_loss: 1.1513 - val_acc: 0.5862\n",
      "Epoch 8/150\n",
      "45000/45000 [==============================] - 33s 726us/step - loss: 1.2494 - acc: 0.5540 - val_loss: 1.1415 - val_acc: 0.5918\n",
      "Epoch 9/150\n",
      "45000/45000 [==============================] - 32s 712us/step - loss: 1.2285 - acc: 0.5630 - val_loss: 1.2223 - val_acc: 0.5604\n",
      "Epoch 10/150\n",
      "45000/45000 [==============================] - 33s 735us/step - loss: 1.2170 - acc: 0.5698 - val_loss: 1.0853 - val_acc: 0.6148\n",
      "Epoch 11/150\n",
      "45000/45000 [==============================] - 31s 700us/step - loss: 1.1839 - acc: 0.5799 - val_loss: 1.0801 - val_acc: 0.6096\n",
      "Epoch 12/150\n",
      "45000/45000 [==============================] - 32s 704us/step - loss: 1.1777 - acc: 0.5833 - val_loss: 1.0482 - val_acc: 0.6256\n",
      "Epoch 13/150\n",
      "45000/45000 [==============================] - 31s 687us/step - loss: 1.1609 - acc: 0.5875 - val_loss: 1.0991 - val_acc: 0.6138\n",
      "Epoch 14/150\n",
      "45000/45000 [==============================] - 31s 682us/step - loss: 1.1486 - acc: 0.5925 - val_loss: 1.0444 - val_acc: 0.6302\n",
      "Epoch 15/150\n",
      "45000/45000 [==============================] - 31s 692us/step - loss: 1.1376 - acc: 0.5962 - val_loss: 1.0572 - val_acc: 0.6262\n",
      "Epoch 16/150\n",
      "45000/45000 [==============================] - 31s 691us/step - loss: 1.1212 - acc: 0.6011 - val_loss: 1.0781 - val_acc: 0.6224\n",
      "Epoch 17/150\n",
      "45000/45000 [==============================] - 32s 708us/step - loss: 1.1144 - acc: 0.6058 - val_loss: 1.0051 - val_acc: 0.6502\n",
      "Epoch 18/150\n",
      "45000/45000 [==============================] - 31s 685us/step - loss: 1.1030 - acc: 0.6092 - val_loss: 0.9898 - val_acc: 0.6458\n",
      "Epoch 19/150\n",
      "45000/45000 [==============================] - 31s 688us/step - loss: 1.0946 - acc: 0.6130 - val_loss: 1.0184 - val_acc: 0.6418\n",
      "Epoch 20/150\n",
      "45000/45000 [==============================] - 31s 686us/step - loss: 1.0803 - acc: 0.6210 - val_loss: 0.9788 - val_acc: 0.6526\n",
      "Epoch 21/150\n",
      "45000/45000 [==============================] - 31s 683us/step - loss: 1.0743 - acc: 0.6200 - val_loss: 1.0166 - val_acc: 0.6452\n",
      "Epoch 22/150\n",
      "45000/45000 [==============================] - 31s 689us/step - loss: 1.0737 - acc: 0.6198 - val_loss: 1.0816 - val_acc: 0.6242\n",
      "Epoch 23/150\n",
      "45000/45000 [==============================] - 31s 692us/step - loss: 1.0617 - acc: 0.6257 - val_loss: 0.9861 - val_acc: 0.6510\n",
      "Epoch 24/150\n",
      "45000/45000 [==============================] - 31s 692us/step - loss: 1.0523 - acc: 0.6255 - val_loss: 0.9759 - val_acc: 0.6580\n",
      "Epoch 25/150\n",
      "45000/45000 [==============================] - 33s 728us/step - loss: 1.0483 - acc: 0.6300 - val_loss: 0.9893 - val_acc: 0.6542\n",
      "Epoch 26/150\n",
      "45000/45000 [==============================] - 33s 727us/step - loss: 1.0460 - acc: 0.6303 - val_loss: 0.9698 - val_acc: 0.6524\n",
      "Epoch 27/150\n",
      "45000/45000 [==============================] - 33s 738us/step - loss: 1.0348 - acc: 0.6336 - val_loss: 0.9658 - val_acc: 0.6602\n",
      "Epoch 28/150\n",
      "45000/45000 [==============================] - 33s 724us/step - loss: 1.0279 - acc: 0.6367 - val_loss: 1.0095 - val_acc: 0.6476\n",
      "Epoch 29/150\n",
      "45000/45000 [==============================] - 34s 745us/step - loss: 1.0281 - acc: 0.6378 - val_loss: 0.9714 - val_acc: 0.6628\n",
      "Epoch 30/150\n",
      "45000/45000 [==============================] - 33s 732us/step - loss: 1.0215 - acc: 0.6410 - val_loss: 0.9671 - val_acc: 0.6582\n",
      "Epoch 31/150\n",
      "45000/45000 [==============================] - 33s 725us/step - loss: 1.0196 - acc: 0.6397 - val_loss: 0.9378 - val_acc: 0.6690\n",
      "Epoch 32/150\n",
      "45000/45000 [==============================] - 33s 724us/step - loss: 1.0112 - acc: 0.6434 - val_loss: 0.8922 - val_acc: 0.6850\n",
      "Epoch 33/150\n",
      "45000/45000 [==============================] - 33s 727us/step - loss: 1.0029 - acc: 0.6425 - val_loss: 0.9167 - val_acc: 0.6758\n",
      "Epoch 34/150\n",
      "45000/45000 [==============================] - 33s 731us/step - loss: 1.0002 - acc: 0.6442 - val_loss: 0.9068 - val_acc: 0.6788\n",
      "Epoch 35/150\n",
      "45000/45000 [==============================] - 33s 728us/step - loss: 1.0060 - acc: 0.6444 - val_loss: 0.9562 - val_acc: 0.6688\n",
      "Epoch 36/150\n",
      "45000/45000 [==============================] - 33s 733us/step - loss: 0.9903 - acc: 0.6498 - val_loss: 0.9415 - val_acc: 0.6678\n",
      "Epoch 37/150\n",
      "45000/45000 [==============================] - 33s 731us/step - loss: 0.9894 - acc: 0.6520 - val_loss: 0.8820 - val_acc: 0.6876\n",
      "Epoch 38/150\n",
      "45000/45000 [==============================] - 33s 742us/step - loss: 0.9902 - acc: 0.6520 - val_loss: 0.9525 - val_acc: 0.6678\n",
      "Epoch 39/150\n",
      "45000/45000 [==============================] - 33s 733us/step - loss: 0.9822 - acc: 0.6568 - val_loss: 0.9132 - val_acc: 0.6780\n",
      "Epoch 40/150\n",
      "45000/45000 [==============================] - 33s 730us/step - loss: 0.9751 - acc: 0.6565 - val_loss: 0.9453 - val_acc: 0.6762\n",
      "Epoch 41/150\n",
      "45000/45000 [==============================] - 33s 738us/step - loss: 0.9776 - acc: 0.6553 - val_loss: 0.9334 - val_acc: 0.6746\n",
      "Epoch 42/150\n",
      "45000/45000 [==============================] - 33s 725us/step - loss: 0.9692 - acc: 0.6576 - val_loss: 0.9167 - val_acc: 0.6830\n",
      "Epoch 43/150\n",
      "45000/45000 [==============================] - 33s 726us/step - loss: 0.9697 - acc: 0.6587 - val_loss: 0.9285 - val_acc: 0.6818\n",
      "Epoch 44/150\n",
      "45000/45000 [==============================] - 33s 736us/step - loss: 0.9590 - acc: 0.6636 - val_loss: 0.9590 - val_acc: 0.6640\n",
      "Epoch 45/150\n",
      "45000/45000 [==============================] - 33s 735us/step - loss: 0.9653 - acc: 0.6589 - val_loss: 0.9058 - val_acc: 0.6854\n",
      "Epoch 46/150\n",
      "45000/45000 [==============================] - 33s 723us/step - loss: 0.9609 - acc: 0.6624 - val_loss: 0.9039 - val_acc: 0.6864\n",
      "Epoch 47/150\n",
      "45000/45000 [==============================] - 33s 727us/step - loss: 0.9555 - acc: 0.6605 - val_loss: 0.8822 - val_acc: 0.6946\n",
      "Epoch 48/150\n",
      "45000/45000 [==============================] - 33s 726us/step - loss: 0.9470 - acc: 0.6656 - val_loss: 0.8792 - val_acc: 0.6940\n",
      "Epoch 49/150\n",
      "45000/45000 [==============================] - 33s 723us/step - loss: 0.9522 - acc: 0.6657 - val_loss: 0.8804 - val_acc: 0.6934\n",
      "Epoch 50/150\n",
      "45000/45000 [==============================] - 33s 725us/step - loss: 0.9454 - acc: 0.6655 - val_loss: 0.9055 - val_acc: 0.6816\n",
      "Epoch 51/150\n",
      "45000/45000 [==============================] - 33s 725us/step - loss: 0.9425 - acc: 0.6698 - val_loss: 0.8670 - val_acc: 0.6990\n",
      "Epoch 52/150\n",
      "45000/45000 [==============================] - 33s 734us/step - loss: 0.9407 - acc: 0.6684 - val_loss: 0.9339 - val_acc: 0.6742\n",
      "Epoch 53/150\n",
      "45000/45000 [==============================] - 33s 734us/step - loss: 0.9431 - acc: 0.6678 - val_loss: 0.8651 - val_acc: 0.6944\n",
      "Epoch 54/150\n",
      "45000/45000 [==============================] - 34s 745us/step - loss: 0.9312 - acc: 0.6724 - val_loss: 0.8780 - val_acc: 0.6934\n",
      "Epoch 55/150\n",
      "45000/45000 [==============================] - 33s 733us/step - loss: 0.9356 - acc: 0.6713 - val_loss: 0.9002 - val_acc: 0.6872\n",
      "Epoch 56/150\n",
      "45000/45000 [==============================] - 33s 723us/step - loss: 0.9359 - acc: 0.6718 - val_loss: 0.8679 - val_acc: 0.7016\n",
      "Epoch 57/150\n",
      "45000/45000 [==============================] - 33s 724us/step - loss: 0.9292 - acc: 0.6720 - val_loss: 0.8489 - val_acc: 0.7046\n",
      "Epoch 58/150\n",
      "45000/45000 [==============================] - 33s 728us/step - loss: 0.9269 - acc: 0.6750 - val_loss: 0.8776 - val_acc: 0.6966\n"
     ]
    },
    {
     "name": "stdout",
     "output_type": "stream",
     "text": [
      "Epoch 59/150\n",
      "45000/45000 [==============================] - 32s 711us/step - loss: 0.9260 - acc: 0.6719 - val_loss: 0.8815 - val_acc: 0.6926\n",
      "Epoch 60/150\n",
      "45000/45000 [==============================] - 32s 711us/step - loss: 0.9287 - acc: 0.6728 - val_loss: 0.9362 - val_acc: 0.6700\n",
      "Epoch 61/150\n",
      "45000/45000 [==============================] - 32s 706us/step - loss: 0.9251 - acc: 0.6747 - val_loss: 0.9386 - val_acc: 0.6752\n",
      "Epoch 62/150\n",
      "45000/45000 [==============================] - 32s 712us/step - loss: 0.9138 - acc: 0.6757 - val_loss: 0.8904 - val_acc: 0.6866\n",
      "Epoch 63/150\n",
      "45000/45000 [==============================] - 32s 718us/step - loss: 0.9087 - acc: 0.6806 - val_loss: 0.8967 - val_acc: 0.6828\n",
      "Epoch 64/150\n",
      "45000/45000 [==============================] - 33s 725us/step - loss: 0.9096 - acc: 0.6814 - val_loss: 1.0002 - val_acc: 0.6554\n",
      "Epoch 65/150\n",
      "45000/45000 [==============================] - 32s 718us/step - loss: 0.9054 - acc: 0.6791 - val_loss: 0.8379 - val_acc: 0.7034\n",
      "Epoch 66/150\n",
      "45000/45000 [==============================] - 32s 713us/step - loss: 0.9101 - acc: 0.6812 - val_loss: 0.8574 - val_acc: 0.6978\n",
      "Epoch 67/150\n",
      "45000/45000 [==============================] - 32s 715us/step - loss: 0.9130 - acc: 0.6805 - val_loss: 0.8912 - val_acc: 0.6910\n",
      "Epoch 68/150\n",
      "45000/45000 [==============================] - 32s 717us/step - loss: 0.9076 - acc: 0.6795 - val_loss: 0.9487 - val_acc: 0.6762\n",
      "Epoch 69/150\n",
      "45000/45000 [==============================] - 32s 710us/step - loss: 0.9023 - acc: 0.6814 - val_loss: 0.8534 - val_acc: 0.7032\n",
      "Epoch 70/150\n",
      "45000/45000 [==============================] - 32s 712us/step - loss: 0.9058 - acc: 0.6805 - val_loss: 0.8802 - val_acc: 0.6978\n",
      "Epoch 71/150\n",
      "45000/45000 [==============================] - 32s 711us/step - loss: 0.9000 - acc: 0.6837 - val_loss: 0.9779 - val_acc: 0.6638\n",
      "Epoch 72/150\n",
      "45000/45000 [==============================] - 32s 716us/step - loss: 0.8982 - acc: 0.6848 - val_loss: 0.8610 - val_acc: 0.7056\n",
      "Epoch 73/150\n",
      "45000/45000 [==============================] - 32s 717us/step - loss: 0.8975 - acc: 0.6822 - val_loss: 0.8604 - val_acc: 0.7010\n",
      "Epoch 74/150\n",
      "45000/45000 [==============================] - 32s 712us/step - loss: 0.8980 - acc: 0.6832 - val_loss: 0.8434 - val_acc: 0.7018\n",
      "Epoch 75/150\n",
      "45000/45000 [==============================] - 32s 720us/step - loss: 0.8893 - acc: 0.6872 - val_loss: 0.8530 - val_acc: 0.7052\n",
      "Epoch 76/150\n",
      "45000/45000 [==============================] - 32s 712us/step - loss: 0.8923 - acc: 0.6861 - val_loss: 0.8806 - val_acc: 0.6926\n",
      "Epoch 77/150\n",
      "45000/45000 [==============================] - 33s 736us/step - loss: 0.8880 - acc: 0.6859 - val_loss: 0.8856 - val_acc: 0.6918\n",
      "Epoch 78/150\n",
      "45000/45000 [==============================] - 32s 715us/step - loss: 0.8924 - acc: 0.6864 - val_loss: 0.8497 - val_acc: 0.7026\n",
      "Epoch 79/150\n",
      "45000/45000 [==============================] - 32s 712us/step - loss: 0.8817 - acc: 0.6922 - val_loss: 0.8444 - val_acc: 0.7052\n",
      "Epoch 80/150\n",
      "45000/45000 [==============================] - 32s 709us/step - loss: 0.8920 - acc: 0.6860 - val_loss: 0.8773 - val_acc: 0.6936\n",
      "Epoch 81/150\n",
      "45000/45000 [==============================] - 32s 712us/step - loss: 0.8876 - acc: 0.6871 - val_loss: 0.8595 - val_acc: 0.6974\n",
      "Epoch 82/150\n",
      "45000/45000 [==============================] - 32s 722us/step - loss: 0.8832 - acc: 0.6866 - val_loss: 0.8941 - val_acc: 0.6894\n",
      "Epoch 83/150\n",
      "45000/45000 [==============================] - 33s 723us/step - loss: 0.8856 - acc: 0.6894 - val_loss: 0.8688 - val_acc: 0.6934\n",
      "Epoch 84/150\n",
      "45000/45000 [==============================] - 35s 773us/step - loss: 0.8846 - acc: 0.6888 - val_loss: 0.8280 - val_acc: 0.7104\n",
      "Epoch 85/150\n",
      "45000/45000 [==============================] - 33s 726us/step - loss: 0.8770 - acc: 0.6872 - val_loss: 0.8999 - val_acc: 0.6896\n",
      "Epoch 86/150\n",
      "45000/45000 [==============================] - 32s 716us/step - loss: 0.8835 - acc: 0.6896 - val_loss: 0.8354 - val_acc: 0.7080\n",
      "Epoch 87/150\n",
      "45000/45000 [==============================] - 33s 724us/step - loss: 0.8725 - acc: 0.6906 - val_loss: 0.8588 - val_acc: 0.7060\n",
      "Epoch 88/150\n",
      "45000/45000 [==============================] - 32s 719us/step - loss: 0.8807 - acc: 0.6904 - val_loss: 0.9135 - val_acc: 0.6872\n",
      "Epoch 89/150\n",
      "45000/45000 [==============================] - 32s 721us/step - loss: 0.8788 - acc: 0.6906 - val_loss: 0.8227 - val_acc: 0.7162\n",
      "Epoch 90/150\n",
      "45000/45000 [==============================] - 33s 725us/step - loss: 0.8754 - acc: 0.6906 - val_loss: 0.8045 - val_acc: 0.7232\n",
      "Epoch 91/150\n",
      "45000/45000 [==============================] - 33s 738us/step - loss: 0.8778 - acc: 0.6901 - val_loss: 0.8888 - val_acc: 0.6904\n",
      "Epoch 92/150\n",
      "45000/45000 [==============================] - 33s 736us/step - loss: 0.8695 - acc: 0.6949 - val_loss: 0.8495 - val_acc: 0.7078\n",
      "Epoch 93/150\n",
      "45000/45000 [==============================] - 33s 734us/step - loss: 0.8709 - acc: 0.6942 - val_loss: 0.8509 - val_acc: 0.7036\n",
      "Epoch 94/150\n",
      "45000/45000 [==============================] - 32s 722us/step - loss: 0.8653 - acc: 0.6959 - val_loss: 0.8538 - val_acc: 0.7078\n",
      "Epoch 95/150\n",
      "45000/45000 [==============================] - 33s 732us/step - loss: 0.8692 - acc: 0.6953 - val_loss: 0.8458 - val_acc: 0.7080\n",
      "Epoch 96/150\n",
      "45000/45000 [==============================] - 38s 834us/step - loss: 0.8645 - acc: 0.6940 - val_loss: 0.8285 - val_acc: 0.7168\n",
      "Epoch 97/150\n",
      "45000/45000 [==============================] - 34s 763us/step - loss: 0.8635 - acc: 0.6960 - val_loss: 0.8477 - val_acc: 0.7078\n",
      "Epoch 98/150\n",
      "45000/45000 [==============================] - 36s 793us/step - loss: 0.8631 - acc: 0.6958 - val_loss: 0.8306 - val_acc: 0.7074\n",
      "Epoch 99/150\n",
      "45000/45000 [==============================] - 36s 795us/step - loss: 0.8750 - acc: 0.6919 - val_loss: 0.8640 - val_acc: 0.6996\n",
      "Epoch 100/150\n",
      "45000/45000 [==============================] - 36s 795us/step - loss: 0.8609 - acc: 0.6959 - val_loss: 0.8283 - val_acc: 0.7158\n",
      "Epoch 101/150\n",
      "45000/45000 [==============================] - 35s 788us/step - loss: 0.8605 - acc: 0.6986 - val_loss: 0.8477 - val_acc: 0.7066\n",
      "Epoch 102/150\n",
      "45000/45000 [==============================] - 36s 792us/step - loss: 0.8626 - acc: 0.6937 - val_loss: 0.8655 - val_acc: 0.6958\n",
      "Epoch 103/150\n",
      "45000/45000 [==============================] - 35s 785us/step - loss: 0.8603 - acc: 0.6958 - val_loss: 0.8571 - val_acc: 0.7042\n",
      "Epoch 104/150\n",
      "45000/45000 [==============================] - 37s 819us/step - loss: 0.8637 - acc: 0.6952 - val_loss: 0.8358 - val_acc: 0.7078\n",
      "Epoch 105/150\n",
      "45000/45000 [==============================] - 38s 854us/step - loss: 0.8567 - acc: 0.6994 - val_loss: 0.8640 - val_acc: 0.6990\n",
      "Epoch 106/150\n",
      "45000/45000 [==============================] - 32s 721us/step - loss: 0.8654 - acc: 0.6949 - val_loss: 0.8841 - val_acc: 0.6930\n",
      "Epoch 107/150\n",
      "45000/45000 [==============================] - 32s 711us/step - loss: 0.8596 - acc: 0.6969 - val_loss: 0.8371 - val_acc: 0.7112\n",
      "Epoch 108/150\n",
      "45000/45000 [==============================] - 32s 717us/step - loss: 0.8554 - acc: 0.6979 - val_loss: 0.8295 - val_acc: 0.7080\n",
      "Epoch 109/150\n",
      "45000/45000 [==============================] - 34s 750us/step - loss: 0.8548 - acc: 0.6986 - val_loss: 0.8519 - val_acc: 0.7030\n",
      "Epoch 110/150\n",
      "45000/45000 [==============================] - 32s 713us/step - loss: 0.8570 - acc: 0.6981 - val_loss: 0.8957 - val_acc: 0.6900\n",
      "Epoch 111/150\n",
      "45000/45000 [==============================] - 32s 712us/step - loss: 0.8554 - acc: 0.6982 - val_loss: 0.8357 - val_acc: 0.7096\n",
      "Epoch 112/150\n",
      "45000/45000 [==============================] - 32s 715us/step - loss: 0.8501 - acc: 0.6997 - val_loss: 0.8649 - val_acc: 0.7018\n",
      "Epoch 113/150\n",
      "45000/45000 [==============================] - 32s 715us/step - loss: 0.8494 - acc: 0.7010 - val_loss: 0.8547 - val_acc: 0.7072\n",
      "Epoch 114/150\n",
      "45000/45000 [==============================] - 32s 714us/step - loss: 0.8538 - acc: 0.7014 - val_loss: 0.8713 - val_acc: 0.6994\n",
      "Epoch 115/150\n",
      "45000/45000 [==============================] - 32s 713us/step - loss: 0.8485 - acc: 0.7003 - val_loss: 0.8536 - val_acc: 0.7056\n",
      "Epoch 116/150\n",
      "45000/45000 [==============================] - 32s 714us/step - loss: 0.8514 - acc: 0.7004 - val_loss: 0.8334 - val_acc: 0.7122\n"
     ]
    },
    {
     "name": "stdout",
     "output_type": "stream",
     "text": [
      "Epoch 117/150\n",
      "45000/45000 [==============================] - 30s 673us/step - loss: 0.8484 - acc: 0.6991 - val_loss: 0.8845 - val_acc: 0.7010\n",
      "Epoch 118/150\n",
      "45000/45000 [==============================] - 31s 690us/step - loss: 0.8486 - acc: 0.7018 - val_loss: 0.8785 - val_acc: 0.7006\n",
      "Epoch 119/150\n",
      "45000/45000 [==============================] - 30s 671us/step - loss: 0.8457 - acc: 0.7018 - val_loss: 0.8160 - val_acc: 0.7178\n",
      "Epoch 120/150\n",
      "45000/45000 [==============================] - 30s 673us/step - loss: 0.8489 - acc: 0.7010 - val_loss: 0.8198 - val_acc: 0.7200\n",
      "Epoch 121/150\n",
      "45000/45000 [==============================] - 30s 673us/step - loss: 0.8482 - acc: 0.7013 - val_loss: 0.7932 - val_acc: 0.7246\n",
      "Epoch 122/150\n",
      "45000/45000 [==============================] - 30s 678us/step - loss: 0.8479 - acc: 0.7006 - val_loss: 0.8187 - val_acc: 0.7184\n",
      "Epoch 123/150\n",
      "45000/45000 [==============================] - 30s 676us/step - loss: 0.8420 - acc: 0.7034 - val_loss: 0.8206 - val_acc: 0.7168\n",
      "Epoch 124/150\n",
      "45000/45000 [==============================] - 30s 675us/step - loss: 0.8459 - acc: 0.7016 - val_loss: 0.8532 - val_acc: 0.7092\n",
      "Epoch 125/150\n",
      "45000/45000 [==============================] - 30s 676us/step - loss: 0.8435 - acc: 0.7027 - val_loss: 0.8418 - val_acc: 0.7084\n",
      "Epoch 126/150\n",
      "45000/45000 [==============================] - 32s 716us/step - loss: 0.8472 - acc: 0.7027 - val_loss: 0.8164 - val_acc: 0.7192\n",
      "Epoch 127/150\n",
      "45000/45000 [==============================] - 32s 711us/step - loss: 0.8421 - acc: 0.7018 - val_loss: 0.8744 - val_acc: 0.7038\n",
      "Epoch 128/150\n",
      "45000/45000 [==============================] - 32s 722us/step - loss: 0.8377 - acc: 0.7030 - val_loss: 0.8045 - val_acc: 0.7262\n",
      "Epoch 129/150\n",
      "45000/45000 [==============================] - 32s 715us/step - loss: 0.8384 - acc: 0.7040 - val_loss: 0.8845 - val_acc: 0.7010\n",
      "Epoch 130/150\n",
      "45000/45000 [==============================] - 32s 711us/step - loss: 0.8445 - acc: 0.7011 - val_loss: 0.8084 - val_acc: 0.7222\n",
      "Epoch 131/150\n",
      "45000/45000 [==============================] - 32s 715us/step - loss: 0.8442 - acc: 0.7012 - val_loss: 0.8792 - val_acc: 0.7020\n",
      "Epoch 132/150\n",
      "45000/45000 [==============================] - 32s 716us/step - loss: 0.8392 - acc: 0.7054 - val_loss: 0.8304 - val_acc: 0.7162\n",
      "Epoch 133/150\n",
      "45000/45000 [==============================] - 33s 729us/step - loss: 0.8410 - acc: 0.7017 - val_loss: 0.8446 - val_acc: 0.7140\n",
      "Epoch 134/150\n",
      "45000/45000 [==============================] - 32s 716us/step - loss: 0.8376 - acc: 0.7041 - val_loss: 0.8377 - val_acc: 0.7120\n",
      "Epoch 135/150\n",
      "45000/45000 [==============================] - 32s 719us/step - loss: 0.8397 - acc: 0.7024 - val_loss: 0.8640 - val_acc: 0.7068\n",
      "Epoch 136/150\n",
      "45000/45000 [==============================] - 32s 721us/step - loss: 0.8359 - acc: 0.7036 - val_loss: 0.8006 - val_acc: 0.7292\n",
      "Epoch 137/150\n",
      "45000/45000 [==============================] - 32s 719us/step - loss: 0.8429 - acc: 0.7031 - val_loss: 0.8399 - val_acc: 0.7126\n",
      "Epoch 138/150\n",
      "45000/45000 [==============================] - 32s 711us/step - loss: 0.8383 - acc: 0.7066 - val_loss: 0.7931 - val_acc: 0.7248\n",
      "Epoch 139/150\n",
      "45000/45000 [==============================] - 32s 716us/step - loss: 0.8377 - acc: 0.7055 - val_loss: 0.8445 - val_acc: 0.7144\n",
      "Epoch 140/150\n",
      "45000/45000 [==============================] - 32s 718us/step - loss: 0.8309 - acc: 0.7051 - val_loss: 0.8554 - val_acc: 0.7076\n",
      "Epoch 141/150\n",
      "45000/45000 [==============================] - 32s 713us/step - loss: 0.8340 - acc: 0.7043 - val_loss: 0.8568 - val_acc: 0.7098\n",
      "Epoch 142/150\n",
      "45000/45000 [==============================] - 32s 709us/step - loss: 0.8316 - acc: 0.7052 - val_loss: 0.8571 - val_acc: 0.7106\n",
      "Epoch 143/150\n",
      "45000/45000 [==============================] - 32s 712us/step - loss: 0.8332 - acc: 0.7049 - val_loss: 0.8449 - val_acc: 0.7112\n",
      "Epoch 144/150\n",
      "45000/45000 [==============================] - 32s 715us/step - loss: 0.8289 - acc: 0.7056 - val_loss: 0.7976 - val_acc: 0.7270\n",
      "Epoch 145/150\n",
      "45000/45000 [==============================] - 32s 714us/step - loss: 0.8332 - acc: 0.7079 - val_loss: 0.8619 - val_acc: 0.7086\n",
      "Epoch 146/150\n",
      "45000/45000 [==============================] - 32s 713us/step - loss: 0.8313 - acc: 0.7072 - val_loss: 0.8416 - val_acc: 0.7122\n",
      "Epoch 147/150\n",
      "45000/45000 [==============================] - 32s 715us/step - loss: 0.8349 - acc: 0.7062 - val_loss: 0.8552 - val_acc: 0.7082\n",
      "Epoch 148/150\n",
      "45000/45000 [==============================] - 32s 721us/step - loss: 0.8273 - acc: 0.7085 - val_loss: 0.8416 - val_acc: 0.7100\n",
      "Epoch 149/150\n",
      "45000/45000 [==============================] - 32s 721us/step - loss: 0.8328 - acc: 0.7070 - val_loss: 0.8488 - val_acc: 0.7102\n",
      "Epoch 150/150\n",
      "45000/45000 [==============================] - 32s 717us/step - loss: 0.8241 - acc: 0.7059 - val_loss: 0.8603 - val_acc: 0.7058\n",
      "Model2 took 4891.00 seconds to train\n"
     ]
    }
   ],
   "source": [
    "import time\n",
    "start = time.time()\n",
    "model_hist2 = model2.fit(x_train, y_train, batch_size = batch_size, epochs = num_epochs, verbose = 1, validation_data = (x_val, y_val), shuffle = True) \n",
    "end = time.time()\n",
    "print(\"Model2 took %0.2f seconds to train\"%(end - start))\n",
    "model2.save('cifar10_2.h5')"
   ]
  },
  {
   "cell_type": "code",
   "execution_count": 95,
   "metadata": {},
   "outputs": [
    {
     "name": "stdout",
     "output_type": "stream",
     "text": [
      "Loss on validation set: 0.87\n",
      "Accuracy on validation set: 70.39%\n"
     ]
    },
    {
     "data": {
      "image/png": "[encoded data removed]",
      "text/plain": [
       "<Figure size 1080x360 with 2 Axes>"
      ]
     },
     "metadata": {},
     "output_type": "display_data"
    }
   ],
   "source": [
    "# Evaluating the model\n",
    "evaluation = model2.evaluate(x_test, y_test, verbose = 0)\n",
    "print(\"Loss on validation set: %.2f\" % evaluation[0])\n",
    "print(\"Accuracy on validation set: %.2f%%\" % (evaluation[1]*100))\n",
    "\n",
    "# Ploting accuracy and loss for the model\n",
    "plot_model_history(model_hist2)"
   ]
  },
  {
   "cell_type": "markdown",
   "metadata": {},
   "source": [
    "## Deeper ConvNet"
   ]
  },
  {
   "cell_type": "code",
   "execution_count": 125,
   "metadata": {},
   "outputs": [],
   "source": [
    "batch_size = 32\n",
    "num_epochs = 150\n",
    "kernel_size = 3 \n",
    "pool_size = 2 \n",
    "conv_depth_1 = 16 \n",
    "conv_depth_2 = 32  \n",
    "conv_depth_3 = 64\n",
    "conv_depth_4 = 128 \n",
    "drop_prob_1 = 0.25 \n",
    "drop_prob_2 = 0.5\n",
    "hidden_size = 256"
   ]
  },
  {
   "cell_type": "code",
   "execution_count": 126,
   "metadata": {},
   "outputs": [],
   "source": [
    "# build CNN model\n",
    "model3 = Sequential()"
   ]
  },
  {
   "cell_type": "code",
   "execution_count": 127,
   "metadata": {},
   "outputs": [],
   "source": [
    "# C1: 32 * 32 * 3 -> 32 * 32 * 16\n",
    "model3.add(Conv2D(conv_depth_1, (kernel_size, kernel_size),  padding='same', input_shape=x_train.shape[1:]))\n",
    "model3.add(Activation('relu'))"
   ]
  },
  {
   "cell_type": "code",
   "execution_count": 128,
   "metadata": {},
   "outputs": [],
   "source": [
    "# P1: 32 * 32 * 16 -> 16 * 16 * 16\n",
    "model3.add(MaxPooling2D((pool_size, pool_size)))\n",
    "model3.add(Dropout(drop_prob_1))"
   ]
  },
  {
   "cell_type": "code",
   "execution_count": 129,
   "metadata": {},
   "outputs": [],
   "source": [
    "# C2: 16 * 16 * 16 -> 16 * 16 * 32\n",
    "model3.add(Conv2D(conv_depth_2, (kernel_size, kernel_size), padding='same'))\n",
    "model3.add(Activation('relu'))"
   ]
  },
  {
   "cell_type": "code",
   "execution_count": 130,
   "metadata": {},
   "outputs": [],
   "source": [
    "# P2: 16 * 16 * 32 -> 8 * 8 * 32\n",
    "model3.add(MaxPooling2D((pool_size, pool_size)))\n",
    "model3.add(Dropout(drop_prob_1))"
   ]
  },
  {
   "cell_type": "code",
   "execution_count": 131,
   "metadata": {},
   "outputs": [],
   "source": [
    "# C3: 8 * 8 * 32 -> 8 * 8 * 64\n",
    "model3.add(Conv2D(conv_depth_3, (kernel_size, kernel_size), padding='same'))\n",
    "model3.add(Activation('relu'))"
   ]
  },
  {
   "cell_type": "code",
   "execution_count": 132,
   "metadata": {},
   "outputs": [],
   "source": [
    "# P3: 8 * 8 * 64 -> 4 * 4 * 64\n",
    "model3.add(MaxPooling2D((pool_size, pool_size)))\n",
    "model3.add(Dropout(drop_prob_1))"
   ]
  },
  {
   "cell_type": "code",
   "execution_count": 133,
   "metadata": {},
   "outputs": [],
   "source": [
    "# C4: 4 * 4 * 64 -> 4 * 4 * 128\n",
    "model3.add(Conv2D(conv_depth_3, (kernel_size, kernel_size), padding='same'))\n",
    "model3.add(Activation('relu'))"
   ]
  },
  {
   "cell_type": "code",
   "execution_count": 134,
   "metadata": {},
   "outputs": [],
   "source": [
    "# P4: 4 * 4 * 128 -> 2 * 2 * 128\n",
    "model3.add(MaxPooling2D((pool_size, pool_size)))\n",
    "model3.add(Dropout(drop_prob_1))"
   ]
  },
  {
   "cell_type": "code",
   "execution_count": 135,
   "metadata": {},
   "outputs": [],
   "source": [
    "# Flatten to 1 * 256\n",
    "model3.add(Flatten())\n",
    "model3.add(Dense(hidden_size))\n",
    "model3.add(Activation('relu'))\n",
    "model3.add(Dropout(drop_prob_2))"
   ]
  },
  {
   "cell_type": "code",
   "execution_count": 136,
   "metadata": {},
   "outputs": [],
   "source": [
    "# F2: 1 * 256 -> 1 * 10\n",
    "model3.add(Dense(num_classes))\n",
    "model3.add(Activation('softmax'))"
   ]
  },
  {
   "cell_type": "code",
   "execution_count": 137,
   "metadata": {},
   "outputs": [],
   "source": [
    "# Defining the optimizer\n",
    "from keras.optimizers import SGD, Adam\n",
    "sgd = SGD(lr = 0.01, momentum = 0.9, decay = 0.01/num_epochs, nesterov = False)\n",
    "adm = Adam(lr = 0.001, beta_1 = 0.9, beta_2 = 0.999, epsilon = 1e-08, decay = 0.001/num_epochs)"
   ]
  },
  {
   "cell_type": "code",
   "execution_count": 138,
   "metadata": {},
   "outputs": [],
   "source": [
    "# Configurating the model for training\n",
    "model3.compile(loss = 'categorical_crossentropy', optimizer = adm, metrics = ['accuracy'])"
   ]
  },
  {
   "cell_type": "code",
   "execution_count": 139,
   "metadata": {},
   "outputs": [
    {
     "name": "stdout",
     "output_type": "stream",
     "text": [
      "_________________________________________________________________\n",
      "Layer (type)                 Output Shape              Param #   \n",
      "=================================================================\n",
      "conv2d_21 (Conv2D)           (None, 32, 32, 16)        448       \n",
      "_________________________________________________________________\n",
      "activation_33 (Activation)   (None, 32, 32, 16)        0         \n",
      "_________________________________________________________________\n",
      "max_pooling2d_21 (MaxPooling (None, 16, 16, 16)        0         \n",
      "_________________________________________________________________\n",
      "dropout_27 (Dropout)         (None, 16, 16, 16)        0         \n",
      "_________________________________________________________________\n",
      "conv2d_22 (Conv2D)           (None, 16, 16, 32)        4640      \n",
      "_________________________________________________________________\n",
      "activation_34 (Activation)   (None, 16, 16, 32)        0         \n",
      "_________________________________________________________________\n",
      "max_pooling2d_22 (MaxPooling (None, 8, 8, 32)          0         \n",
      "_________________________________________________________________\n",
      "dropout_28 (Dropout)         (None, 8, 8, 32)          0         \n",
      "_________________________________________________________________\n",
      "conv2d_23 (Conv2D)           (None, 8, 8, 64)          18496     \n",
      "_________________________________________________________________\n",
      "activation_35 (Activation)   (None, 8, 8, 64)          0         \n",
      "_________________________________________________________________\n",
      "max_pooling2d_23 (MaxPooling (None, 4, 4, 64)          0         \n",
      "_________________________________________________________________\n",
      "dropout_29 (Dropout)         (None, 4, 4, 64)          0         \n",
      "_________________________________________________________________\n",
      "conv2d_24 (Conv2D)           (None, 4, 4, 64)          36928     \n",
      "_________________________________________________________________\n",
      "activation_36 (Activation)   (None, 4, 4, 64)          0         \n",
      "_________________________________________________________________\n",
      "max_pooling2d_24 (MaxPooling (None, 2, 2, 64)          0         \n",
      "_________________________________________________________________\n",
      "dropout_30 (Dropout)         (None, 2, 2, 64)          0         \n",
      "_________________________________________________________________\n",
      "flatten_7 (Flatten)          (None, 256)               0         \n",
      "_________________________________________________________________\n",
      "dense_13 (Dense)             (None, 256)               65792     \n",
      "_________________________________________________________________\n",
      "activation_37 (Activation)   (None, 256)               0         \n",
      "_________________________________________________________________\n",
      "dropout_31 (Dropout)         (None, 256)               0         \n",
      "_________________________________________________________________\n",
      "dense_14 (Dense)             (None, 10)                2570      \n",
      "_________________________________________________________________\n",
      "activation_38 (Activation)   (None, 10)                0         \n",
      "=================================================================\n",
      "Total params: 128,874\n",
      "Trainable params: 128,874\n",
      "Non-trainable params: 0\n",
      "_________________________________________________________________\n"
     ]
    }
   ],
   "source": [
    "model3.summary()"
   ]
  },
  {
   "cell_type": "code",
   "execution_count": 141,
   "metadata": {},
   "outputs": [
    {
     "name": "stdout",
     "output_type": "stream",
     "text": [
      "Train on 45000 samples, validate on 5000 samples\n",
      "Epoch 1/150\n",
      "45000/45000 [==============================] - 55s 1ms/step - loss: 1.8040 - acc: 0.3238 - val_loss: 1.5429 - val_acc: 0.4314\n",
      "Epoch 2/150\n",
      "45000/45000 [==============================] - 58s 1ms/step - loss: 1.5048 - acc: 0.4478 - val_loss: 1.3586 - val_acc: 0.5082\n",
      "Epoch 3/150\n",
      "45000/45000 [==============================] - 64s 1ms/step - loss: 1.3850 - acc: 0.4956 - val_loss: 1.2437 - val_acc: 0.5502\n",
      "Epoch 4/150\n",
      "45000/45000 [==============================] - 61s 1ms/step - loss: 1.3106 - acc: 0.5248 - val_loss: 1.1974 - val_acc: 0.5676\n",
      "Epoch 5/150\n",
      "45000/45000 [==============================] - 62s 1ms/step - loss: 1.2576 - acc: 0.5449 - val_loss: 1.1031 - val_acc: 0.6124\n",
      "Epoch 6/150\n",
      "45000/45000 [==============================] - 58s 1ms/step - loss: 1.2207 - acc: 0.5623 - val_loss: 1.0488 - val_acc: 0.6236\n",
      "Epoch 7/150\n",
      "45000/45000 [==============================] - 53s 1ms/step - loss: 1.1795 - acc: 0.5741 - val_loss: 1.0213 - val_acc: 0.6378\n",
      "Epoch 8/150\n",
      "45000/45000 [==============================] - 53s 1ms/step - loss: 1.1620 - acc: 0.5868 - val_loss: 1.0062 - val_acc: 0.6472\n",
      "Epoch 9/150\n",
      "45000/45000 [==============================] - 53s 1ms/step - loss: 1.1363 - acc: 0.5941 - val_loss: 1.0383 - val_acc: 0.6312\n",
      "Epoch 10/150\n",
      "45000/45000 [==============================] - 55s 1ms/step - loss: 1.1154 - acc: 0.6030 - val_loss: 0.9834 - val_acc: 0.6530\n",
      "Epoch 11/150\n",
      "45000/45000 [==============================] - 66s 1ms/step - loss: 1.0976 - acc: 0.6100 - val_loss: 1.0052 - val_acc: 0.6476\n",
      "Epoch 12/150\n",
      "45000/45000 [==============================] - 54s 1ms/step - loss: 1.0834 - acc: 0.6182 - val_loss: 0.9439 - val_acc: 0.6660\n",
      "Epoch 13/150\n",
      "45000/45000 [==============================] - 58s 1ms/step - loss: 1.0676 - acc: 0.6226 - val_loss: 0.9610 - val_acc: 0.6594\n",
      "Epoch 14/150\n",
      "45000/45000 [==============================] - 53s 1ms/step - loss: 1.0580 - acc: 0.6264 - val_loss: 0.9372 - val_acc: 0.6734\n",
      "Epoch 15/150\n",
      "45000/45000 [==============================] - 53s 1ms/step - loss: 1.0467 - acc: 0.6290 - val_loss: 0.9477 - val_acc: 0.6672\n",
      "Epoch 16/150\n",
      "45000/45000 [==============================] - 53s 1ms/step - loss: 1.0352 - acc: 0.6350 - val_loss: 0.9052 - val_acc: 0.6832\n",
      "Epoch 17/150\n",
      "45000/45000 [==============================] - 53s 1ms/step - loss: 1.0230 - acc: 0.6397 - val_loss: 0.9277 - val_acc: 0.6710\n",
      "Epoch 18/150\n",
      "45000/45000 [==============================] - 53s 1ms/step - loss: 1.0152 - acc: 0.6431 - val_loss: 0.8921 - val_acc: 0.6898\n",
      "Epoch 19/150\n",
      "45000/45000 [==============================] - 60s 1ms/step - loss: 1.0072 - acc: 0.6431 - val_loss: 0.9302 - val_acc: 0.6826\n",
      "Epoch 20/150\n",
      "45000/45000 [==============================] - 54s 1ms/step - loss: 1.0011 - acc: 0.6467 - val_loss: 0.8722 - val_acc: 0.6984\n",
      "Epoch 21/150\n",
      "45000/45000 [==============================] - 58s 1ms/step - loss: 0.9848 - acc: 0.6491 - val_loss: 0.8653 - val_acc: 0.6998\n",
      "Epoch 22/150\n",
      "45000/45000 [==============================] - 53s 1ms/step - loss: 0.9783 - acc: 0.6552 - val_loss: 0.8803 - val_acc: 0.6916\n",
      "Epoch 23/150\n",
      "45000/45000 [==============================] - 53s 1ms/step - loss: 0.9773 - acc: 0.6574 - val_loss: 0.8764 - val_acc: 0.6952\n",
      "Epoch 24/150\n",
      "45000/45000 [==============================] - 56s 1ms/step - loss: 0.9687 - acc: 0.6571 - val_loss: 0.8464 - val_acc: 0.7020\n",
      "Epoch 25/150\n",
      "45000/45000 [==============================] - 53s 1ms/step - loss: 0.9635 - acc: 0.6613 - val_loss: 0.8389 - val_acc: 0.7096\n",
      "Epoch 26/150\n",
      "45000/45000 [==============================] - 53s 1ms/step - loss: 0.9550 - acc: 0.6645 - val_loss: 0.8159 - val_acc: 0.7130\n",
      "Epoch 27/150\n",
      "45000/45000 [==============================] - 53s 1ms/step - loss: 0.9488 - acc: 0.6647 - val_loss: 0.8540 - val_acc: 0.7054\n",
      "Epoch 28/150\n",
      "45000/45000 [==============================] - 53s 1ms/step - loss: 0.9351 - acc: 0.6692 - val_loss: 0.8367 - val_acc: 0.7078\n",
      "Epoch 29/150\n",
      "45000/45000 [==============================] - 53s 1ms/step - loss: 0.9335 - acc: 0.6694 - val_loss: 0.8018 - val_acc: 0.7276\n",
      "Epoch 30/150\n",
      "45000/45000 [==============================] - 53s 1ms/step - loss: 0.9344 - acc: 0.6707 - val_loss: 0.9286 - val_acc: 0.6834\n",
      "Epoch 31/150\n",
      "45000/45000 [==============================] - 53s 1ms/step - loss: 0.9331 - acc: 0.6711 - val_loss: 0.7991 - val_acc: 0.7216\n",
      "Epoch 32/150\n",
      "45000/45000 [==============================] - 53s 1ms/step - loss: 0.9160 - acc: 0.6788 - val_loss: 0.7742 - val_acc: 0.7342\n",
      "Epoch 33/150\n",
      "45000/45000 [==============================] - 53s 1ms/step - loss: 0.9207 - acc: 0.6776 - val_loss: 0.7977 - val_acc: 0.7200\n",
      "Epoch 34/150\n",
      "45000/45000 [==============================] - 53s 1ms/step - loss: 0.9141 - acc: 0.6790 - val_loss: 0.8020 - val_acc: 0.7210\n",
      "Epoch 35/150\n",
      "45000/45000 [==============================] - 53s 1ms/step - loss: 0.8993 - acc: 0.6856 - val_loss: 0.7789 - val_acc: 0.7300\n",
      "Epoch 36/150\n",
      "45000/45000 [==============================] - 53s 1ms/step - loss: 0.9052 - acc: 0.6840 - val_loss: 0.8093 - val_acc: 0.7152\n",
      "Epoch 37/150\n",
      "45000/45000 [==============================] - 53s 1ms/step - loss: 0.9016 - acc: 0.6843 - val_loss: 0.8171 - val_acc: 0.7160\n",
      "Epoch 38/150\n",
      "45000/45000 [==============================] - 53s 1ms/step - loss: 0.8900 - acc: 0.6880 - val_loss: 0.8316 - val_acc: 0.7074\n",
      "Epoch 39/150\n",
      "45000/45000 [==============================] - 53s 1ms/step - loss: 0.8901 - acc: 0.6886 - val_loss: 0.7518 - val_acc: 0.7408\n",
      "Epoch 40/150\n",
      "45000/45000 [==============================] - 53s 1ms/step - loss: 0.8827 - acc: 0.6913 - val_loss: 0.7728 - val_acc: 0.7252\n",
      "Epoch 41/150\n",
      "45000/45000 [==============================] - 53s 1ms/step - loss: 0.8849 - acc: 0.6901 - val_loss: 0.8127 - val_acc: 0.7170\n",
      "Epoch 42/150\n",
      "45000/45000 [==============================] - 53s 1ms/step - loss: 0.8754 - acc: 0.6944 - val_loss: 0.8013 - val_acc: 0.7228\n",
      "Epoch 43/150\n",
      "45000/45000 [==============================] - 53s 1ms/step - loss: 0.8803 - acc: 0.6899 - val_loss: 0.7756 - val_acc: 0.7304\n",
      "Epoch 44/150\n",
      "45000/45000 [==============================] - 53s 1ms/step - loss: 0.8711 - acc: 0.6929 - val_loss: 0.7793 - val_acc: 0.7290\n",
      "Epoch 45/150\n",
      "45000/45000 [==============================] - 53s 1ms/step - loss: 0.8677 - acc: 0.6962 - val_loss: 0.7716 - val_acc: 0.7314\n",
      "Epoch 46/150\n",
      "45000/45000 [==============================] - 53s 1ms/step - loss: 0.8664 - acc: 0.6975 - val_loss: 0.7573 - val_acc: 0.7368\n",
      "Epoch 47/150\n",
      "45000/45000 [==============================] - 53s 1ms/step - loss: 0.8589 - acc: 0.6993 - val_loss: 0.7832 - val_acc: 0.7234\n",
      "Epoch 48/150\n",
      "45000/45000 [==============================] - 53s 1ms/step - loss: 0.8607 - acc: 0.6995 - val_loss: 0.7856 - val_acc: 0.7274\n",
      "Epoch 49/150\n",
      "45000/45000 [==============================] - 53s 1ms/step - loss: 0.8573 - acc: 0.7000 - val_loss: 0.7039 - val_acc: 0.7516\n",
      "Epoch 50/150\n",
      "45000/45000 [==============================] - 53s 1ms/step - loss: 0.8522 - acc: 0.7011 - val_loss: 0.7549 - val_acc: 0.7334\n",
      "Epoch 51/150\n",
      "45000/45000 [==============================] - 54s 1ms/step - loss: 0.8510 - acc: 0.7028 - val_loss: 0.7129 - val_acc: 0.7524\n",
      "Epoch 52/150\n",
      "45000/45000 [==============================] - 53s 1ms/step - loss: 0.8571 - acc: 0.7010 - val_loss: 0.7514 - val_acc: 0.7462\n",
      "Epoch 53/150\n",
      "45000/45000 [==============================] - 53s 1ms/step - loss: 0.8448 - acc: 0.7033 - val_loss: 0.7756 - val_acc: 0.7336\n",
      "Epoch 54/150\n",
      "45000/45000 [==============================] - 53s 1ms/step - loss: 0.8405 - acc: 0.7067 - val_loss: 0.7256 - val_acc: 0.7464\n",
      "Epoch 55/150\n",
      "45000/45000 [==============================] - 53s 1ms/step - loss: 0.8437 - acc: 0.7054 - val_loss: 0.7653 - val_acc: 0.7384\n",
      "Epoch 56/150\n",
      "45000/45000 [==============================] - 53s 1ms/step - loss: 0.8418 - acc: 0.7059 - val_loss: 0.7346 - val_acc: 0.7470\n",
      "Epoch 57/150\n",
      "45000/45000 [==============================] - 53s 1ms/step - loss: 0.8378 - acc: 0.7071 - val_loss: 0.7931 - val_acc: 0.7230\n",
      "Epoch 58/150\n",
      "45000/45000 [==============================] - 53s 1ms/step - loss: 0.8371 - acc: 0.7075 - val_loss: 0.7403 - val_acc: 0.7452\n",
      "Epoch 59/150\n",
      "45000/45000 [==============================] - 52s 1ms/step - loss: 0.8326 - acc: 0.7092 - val_loss: 0.7320 - val_acc: 0.7474\n",
      "Epoch 60/150\n",
      "45000/45000 [==============================] - 52s 1ms/step - loss: 0.8266 - acc: 0.7084 - val_loss: 0.7112 - val_acc: 0.7466\n",
      "Epoch 61/150\n",
      "45000/45000 [==============================] - 53s 1ms/step - loss: 0.8240 - acc: 0.7113 - val_loss: 0.7275 - val_acc: 0.7524\n",
      "Epoch 62/150\n",
      "45000/45000 [==============================] - 52s 1ms/step - loss: 0.8240 - acc: 0.7119 - val_loss: 0.7178 - val_acc: 0.7510\n",
      "Epoch 63/150\n",
      "45000/45000 [==============================] - 52s 1ms/step - loss: 0.8242 - acc: 0.7111 - val_loss: 0.7583 - val_acc: 0.7310\n",
      "Epoch 64/150\n",
      "45000/45000 [==============================] - 52s 1ms/step - loss: 0.8246 - acc: 0.7107 - val_loss: 0.7825 - val_acc: 0.7358\n",
      "Epoch 65/150\n",
      "45000/45000 [==============================] - 53s 1ms/step - loss: 0.8269 - acc: 0.7117 - val_loss: 0.7048 - val_acc: 0.7540\n",
      "Epoch 66/150\n",
      "45000/45000 [==============================] - 53s 1ms/step - loss: 0.8140 - acc: 0.7157 - val_loss: 0.7582 - val_acc: 0.7378\n",
      "Epoch 67/150\n",
      "45000/45000 [==============================] - 53s 1ms/step - loss: 0.8165 - acc: 0.7148 - val_loss: 0.7084 - val_acc: 0.7560\n",
      "Epoch 68/150\n",
      "45000/45000 [==============================] - 52s 1ms/step - loss: 0.8093 - acc: 0.7188 - val_loss: 0.7242 - val_acc: 0.7474\n",
      "Epoch 69/150\n",
      "45000/45000 [==============================] - 52s 1ms/step - loss: 0.8107 - acc: 0.7172 - val_loss: 0.6980 - val_acc: 0.7662\n",
      "Epoch 70/150\n",
      "45000/45000 [==============================] - 53s 1ms/step - loss: 0.8093 - acc: 0.7191 - val_loss: 0.7259 - val_acc: 0.7518\n",
      "Epoch 71/150\n",
      "45000/45000 [==============================] - 53s 1ms/step - loss: 0.8104 - acc: 0.7145 - val_loss: 0.8069 - val_acc: 0.7238\n",
      "Epoch 72/150\n",
      "45000/45000 [==============================] - 53s 1ms/step - loss: 0.8103 - acc: 0.7166 - val_loss: 0.7516 - val_acc: 0.7416\n",
      "Epoch 73/150\n",
      "45000/45000 [==============================] - 53s 1ms/step - loss: 0.8081 - acc: 0.7160 - val_loss: 0.6881 - val_acc: 0.7612\n",
      "Epoch 74/150\n",
      "45000/45000 [==============================] - 52s 1ms/step - loss: 0.8066 - acc: 0.7180 - val_loss: 0.7052 - val_acc: 0.7512\n",
      "Epoch 75/150\n",
      "45000/45000 [==============================] - 53s 1ms/step - loss: 0.8050 - acc: 0.7190 - val_loss: 0.7772 - val_acc: 0.7304\n",
      "Epoch 76/150\n",
      "45000/45000 [==============================] - 53s 1ms/step - loss: 0.8039 - acc: 0.7175 - val_loss: 0.7047 - val_acc: 0.7546\n",
      "Epoch 77/150\n",
      "45000/45000 [==============================] - 52s 1ms/step - loss: 0.8051 - acc: 0.7207 - val_loss: 0.7009 - val_acc: 0.7598\n",
      "Epoch 78/150\n",
      "45000/45000 [==============================] - 53s 1ms/step - loss: 0.7947 - acc: 0.7205 - val_loss: 0.7065 - val_acc: 0.7554\n",
      "Epoch 79/150\n",
      "45000/45000 [==============================] - 53s 1ms/step - loss: 0.7992 - acc: 0.7199 - val_loss: 0.7816 - val_acc: 0.7298\n",
      "Epoch 80/150\n",
      "45000/45000 [==============================] - 52s 1ms/step - loss: 0.7989 - acc: 0.7219 - val_loss: 0.6833 - val_acc: 0.7698\n",
      "Epoch 81/150\n",
      "45000/45000 [==============================] - 53s 1ms/step - loss: 0.7901 - acc: 0.7232 - val_loss: 0.7559 - val_acc: 0.7356\n",
      "Epoch 82/150\n",
      "45000/45000 [==============================] - 53s 1ms/step - loss: 0.7916 - acc: 0.7214 - val_loss: 0.7330 - val_acc: 0.7450\n",
      "Epoch 83/150\n",
      "45000/45000 [==============================] - 53s 1ms/step - loss: 0.7921 - acc: 0.7236 - val_loss: 0.6734 - val_acc: 0.7698\n",
      "Epoch 84/150\n",
      "45000/45000 [==============================] - 53s 1ms/step - loss: 0.7873 - acc: 0.7251 - val_loss: 0.6839 - val_acc: 0.7636\n",
      "Epoch 85/150\n",
      "45000/45000 [==============================] - 53s 1ms/step - loss: 0.7833 - acc: 0.7266 - val_loss: 0.7321 - val_acc: 0.7484\n",
      "Epoch 86/150\n",
      "45000/45000 [==============================] - 53s 1ms/step - loss: 0.7810 - acc: 0.7277 - val_loss: 0.7063 - val_acc: 0.7550\n",
      "Epoch 87/150\n",
      "45000/45000 [==============================] - 56s 1ms/step - loss: 0.7872 - acc: 0.7250 - val_loss: 0.6710 - val_acc: 0.7714\n",
      "Epoch 88/150\n",
      "45000/45000 [==============================] - 53s 1ms/step - loss: 0.7807 - acc: 0.7280 - val_loss: 0.7003 - val_acc: 0.7576\n",
      "Epoch 89/150\n",
      "45000/45000 [==============================] - 53s 1ms/step - loss: 0.7797 - acc: 0.7267 - val_loss: 0.7281 - val_acc: 0.7494\n",
      "Epoch 90/150\n",
      "45000/45000 [==============================] - 54s 1ms/step - loss: 0.7839 - acc: 0.7288 - val_loss: 0.6766 - val_acc: 0.7620\n",
      "Epoch 91/150\n",
      "45000/45000 [==============================] - 56s 1ms/step - loss: 0.7739 - acc: 0.7302 - val_loss: 0.7604 - val_acc: 0.7352\n",
      "Epoch 92/150\n",
      "45000/45000 [==============================] - 54s 1ms/step - loss: 0.7725 - acc: 0.7314 - val_loss: 0.7217 - val_acc: 0.7506\n",
      "Epoch 93/150\n",
      "45000/45000 [==============================] - 53s 1ms/step - loss: 0.7759 - acc: 0.7279 - val_loss: 0.6964 - val_acc: 0.7620\n",
      "Epoch 94/150\n",
      "45000/45000 [==============================] - 53s 1ms/step - loss: 0.7768 - acc: 0.7273 - val_loss: 0.7230 - val_acc: 0.7460\n",
      "Epoch 95/150\n",
      "45000/45000 [==============================] - 53s 1ms/step - loss: 0.7768 - acc: 0.7312 - val_loss: 0.6755 - val_acc: 0.7664\n",
      "Epoch 96/150\n",
      "45000/45000 [==============================] - 53s 1ms/step - loss: 0.7723 - acc: 0.7288 - val_loss: 0.7023 - val_acc: 0.7570\n",
      "Epoch 97/150\n",
      "45000/45000 [==============================] - 53s 1ms/step - loss: 0.7687 - acc: 0.7294 - val_loss: 0.7065 - val_acc: 0.7540\n",
      "Epoch 98/150\n",
      "45000/45000 [==============================] - 53s 1ms/step - loss: 0.7683 - acc: 0.7344 - val_loss: 0.7209 - val_acc: 0.7478\n",
      "Epoch 99/150\n",
      "45000/45000 [==============================] - 53s 1ms/step - loss: 0.7765 - acc: 0.7279 - val_loss: 0.7269 - val_acc: 0.7432\n",
      "Epoch 100/150\n",
      "45000/45000 [==============================] - 53s 1ms/step - loss: 0.7690 - acc: 0.7309 - val_loss: 0.7577 - val_acc: 0.7386\n",
      "Epoch 101/150\n",
      "45000/45000 [==============================] - 54s 1ms/step - loss: 0.7612 - acc: 0.7348 - val_loss: 0.6768 - val_acc: 0.7686\n",
      "Epoch 102/150\n",
      "45000/45000 [==============================] - 53s 1ms/step - loss: 0.7644 - acc: 0.7340 - val_loss: 0.7029 - val_acc: 0.7554\n",
      "Epoch 103/150\n",
      "45000/45000 [==============================] - 53s 1ms/step - loss: 0.7653 - acc: 0.7321 - val_loss: 0.6744 - val_acc: 0.7658\n",
      "Epoch 104/150\n",
      "45000/45000 [==============================] - 53s 1ms/step - loss: 0.7655 - acc: 0.7334 - val_loss: 0.6817 - val_acc: 0.7600\n",
      "Epoch 105/150\n",
      "45000/45000 [==============================] - 53s 1ms/step - loss: 0.7669 - acc: 0.7314 - val_loss: 0.7049 - val_acc: 0.7542\n",
      "Epoch 106/150\n",
      "45000/45000 [==============================] - 53s 1ms/step - loss: 0.7627 - acc: 0.7339 - val_loss: 0.7075 - val_acc: 0.7532\n",
      "Epoch 107/150\n",
      "45000/45000 [==============================] - 54s 1ms/step - loss: 0.7585 - acc: 0.7338 - val_loss: 0.7048 - val_acc: 0.7536\n",
      "Epoch 108/150\n",
      "45000/45000 [==============================] - 53s 1ms/step - loss: 0.7636 - acc: 0.7340 - val_loss: 0.6736 - val_acc: 0.7666\n",
      "Epoch 109/150\n",
      "45000/45000 [==============================] - 53s 1ms/step - loss: 0.7665 - acc: 0.7315 - val_loss: 0.6981 - val_acc: 0.7586\n",
      "Epoch 110/150\n",
      "45000/45000 [==============================] - 53s 1ms/step - loss: 0.7577 - acc: 0.7359 - val_loss: 0.6594 - val_acc: 0.7768\n",
      "Epoch 111/150\n",
      "45000/45000 [==============================] - 53s 1ms/step - loss: 0.7611 - acc: 0.7326 - val_loss: 0.6606 - val_acc: 0.7708\n",
      "Epoch 112/150\n",
      "45000/45000 [==============================] - 53s 1ms/step - loss: 0.7538 - acc: 0.7335 - val_loss: 0.6748 - val_acc: 0.7664\n",
      "Epoch 113/150\n",
      "45000/45000 [==============================] - 53s 1ms/step - loss: 0.7585 - acc: 0.7343 - val_loss: 0.6985 - val_acc: 0.7588\n",
      "Epoch 114/150\n",
      "45000/45000 [==============================] - 53s 1ms/step - loss: 0.7472 - acc: 0.7374 - val_loss: 0.6992 - val_acc: 0.7544\n",
      "Epoch 115/150\n",
      "45000/45000 [==============================] - 53s 1ms/step - loss: 0.7590 - acc: 0.7363 - val_loss: 0.6664 - val_acc: 0.7692\n",
      "Epoch 116/150\n",
      "45000/45000 [==============================] - 53s 1ms/step - loss: 0.7508 - acc: 0.7400 - val_loss: 0.7172 - val_acc: 0.7514\n",
      "Epoch 117/150\n",
      "45000/45000 [==============================] - 53s 1ms/step - loss: 0.7517 - acc: 0.7371 - val_loss: 0.6809 - val_acc: 0.7632\n"
     ]
    },
    {
     "name": "stdout",
     "output_type": "stream",
     "text": [
      "Epoch 118/150\n",
      "45000/45000 [==============================] - 52s 1ms/step - loss: 0.7513 - acc: 0.7369 - val_loss: 0.7235 - val_acc: 0.7500\n",
      "Epoch 119/150\n",
      "45000/45000 [==============================] - 51s 1ms/step - loss: 0.7493 - acc: 0.7393 - val_loss: 0.6821 - val_acc: 0.7604\n",
      "Epoch 120/150\n",
      "45000/45000 [==============================] - 51s 1ms/step - loss: 0.7457 - acc: 0.7403 - val_loss: 0.7065 - val_acc: 0.7526\n",
      "Epoch 121/150\n",
      "45000/45000 [==============================] - 52s 1ms/step - loss: 0.7508 - acc: 0.7384 - val_loss: 0.6830 - val_acc: 0.7684\n",
      "Epoch 122/150\n",
      "45000/45000 [==============================] - 52s 1ms/step - loss: 0.7479 - acc: 0.7385 - val_loss: 0.6849 - val_acc: 0.7626\n",
      "Epoch 123/150\n",
      "45000/45000 [==============================] - 51s 1ms/step - loss: 0.7439 - acc: 0.7408 - val_loss: 0.6798 - val_acc: 0.7646\n",
      "Epoch 124/150\n",
      "45000/45000 [==============================] - 52s 1ms/step - loss: 0.7468 - acc: 0.7382 - val_loss: 0.7269 - val_acc: 0.7466\n",
      "Epoch 125/150\n",
      "45000/45000 [==============================] - 52s 1ms/step - loss: 0.7471 - acc: 0.7389 - val_loss: 0.7102 - val_acc: 0.7536\n",
      "Epoch 126/150\n",
      "45000/45000 [==============================] - 52s 1ms/step - loss: 0.7411 - acc: 0.7404 - val_loss: 0.6618 - val_acc: 0.7742\n",
      "Epoch 127/150\n",
      "45000/45000 [==============================] - 52s 1ms/step - loss: 0.7485 - acc: 0.7399 - val_loss: 0.6843 - val_acc: 0.7576\n",
      "Epoch 128/150\n",
      "45000/45000 [==============================] - 51s 1ms/step - loss: 0.7408 - acc: 0.7417 - val_loss: 0.6889 - val_acc: 0.7658\n",
      "Epoch 129/150\n",
      "45000/45000 [==============================] - 51s 1ms/step - loss: 0.7437 - acc: 0.7386 - val_loss: 0.7170 - val_acc: 0.7528\n",
      "Epoch 130/150\n",
      "45000/45000 [==============================] - 59s 1ms/step - loss: 0.7385 - acc: 0.7431 - val_loss: 0.6811 - val_acc: 0.7644\n",
      "Epoch 131/150\n",
      "45000/45000 [==============================] - 57s 1ms/step - loss: 0.7422 - acc: 0.7425 - val_loss: 0.7175 - val_acc: 0.7556\n",
      "Epoch 132/150\n",
      "45000/45000 [==============================] - 53s 1ms/step - loss: 0.7451 - acc: 0.7421 - val_loss: 0.6480 - val_acc: 0.7800\n",
      "Epoch 133/150\n",
      "45000/45000 [==============================] - 53s 1ms/step - loss: 0.7408 - acc: 0.7413 - val_loss: 0.6809 - val_acc: 0.7664\n",
      "Epoch 134/150\n",
      "45000/45000 [==============================] - 52s 1ms/step - loss: 0.7394 - acc: 0.7415 - val_loss: 0.7142 - val_acc: 0.7496\n",
      "Epoch 135/150\n",
      "45000/45000 [==============================] - 53s 1ms/step - loss: 0.7377 - acc: 0.7436 - val_loss: 0.6799 - val_acc: 0.7692\n",
      "Epoch 136/150\n",
      "45000/45000 [==============================] - 53s 1ms/step - loss: 0.7341 - acc: 0.7437 - val_loss: 0.6997 - val_acc: 0.7582\n",
      "Epoch 137/150\n",
      "45000/45000 [==============================] - 53s 1ms/step - loss: 0.7360 - acc: 0.7423 - val_loss: 0.6686 - val_acc: 0.7702\n",
      "Epoch 138/150\n",
      "45000/45000 [==============================] - 53s 1ms/step - loss: 0.7346 - acc: 0.7438 - val_loss: 0.6751 - val_acc: 0.7636\n",
      "Epoch 139/150\n",
      "45000/45000 [==============================] - 52s 1ms/step - loss: 0.7331 - acc: 0.7443 - val_loss: 0.6810 - val_acc: 0.7652\n",
      "Epoch 140/150\n",
      "45000/45000 [==============================] - 59s 1ms/step - loss: 0.7370 - acc: 0.7422 - val_loss: 0.6837 - val_acc: 0.7646\n",
      "Epoch 141/150\n",
      "45000/45000 [==============================] - 56s 1ms/step - loss: 0.7350 - acc: 0.7447 - val_loss: 0.6928 - val_acc: 0.7582\n",
      "Epoch 142/150\n",
      "45000/45000 [==============================] - 61s 1ms/step - loss: 0.7298 - acc: 0.7461 - val_loss: 0.7618 - val_acc: 0.7388\n",
      "Epoch 143/150\n",
      "45000/45000 [==============================] - 53s 1ms/step - loss: 0.7270 - acc: 0.7470 - val_loss: 0.7112 - val_acc: 0.7548\n",
      "Epoch 144/150\n",
      "45000/45000 [==============================] - 54s 1ms/step - loss: 0.7357 - acc: 0.7436 - val_loss: 0.6495 - val_acc: 0.7728\n",
      "Epoch 145/150\n",
      "45000/45000 [==============================] - 58s 1ms/step - loss: 0.7299 - acc: 0.7449 - val_loss: 0.6913 - val_acc: 0.7602\n",
      "Epoch 146/150\n",
      "45000/45000 [==============================] - 53s 1ms/step - loss: 0.7330 - acc: 0.7452 - val_loss: 0.6893 - val_acc: 0.7616\n",
      "Epoch 147/150\n",
      "45000/45000 [==============================] - 53s 1ms/step - loss: 0.7293 - acc: 0.7469 - val_loss: 0.6647 - val_acc: 0.7690\n",
      "Epoch 148/150\n",
      "45000/45000 [==============================] - 54s 1ms/step - loss: 0.7284 - acc: 0.7452 - val_loss: 0.6796 - val_acc: 0.7640\n",
      "Epoch 149/150\n",
      "45000/45000 [==============================] - 53s 1ms/step - loss: 0.7285 - acc: 0.7445 - val_loss: 0.6481 - val_acc: 0.7774\n",
      "Epoch 150/150\n",
      "45000/45000 [==============================] - 65s 1ms/step - loss: 0.7305 - acc: 0.7427 - val_loss: 0.7756 - val_acc: 0.7334\n",
      "Model3 took 8054.41 seconds to train\n"
     ]
    }
   ],
   "source": [
    "import time\n",
    "start = time.time()\n",
    "model_hist3 = model3.fit(x_train, y_train, batch_size = batch_size, epochs = num_epochs, verbose = 1, validation_data = (x_val, y_val), shuffle = True) \n",
    "end = time.time()\n",
    "print(\"Model3 took %0.2f seconds to train\"%(end - start))\n",
    "model3.save('cifar10_3.h5')"
   ]
  },
  {
   "cell_type": "code",
   "execution_count": 142,
   "metadata": {},
   "outputs": [
    {
     "name": "stdout",
     "output_type": "stream",
     "text": [
      "Loss on validation set: 0.79\n",
      "Accuracy on validation set: 73.38%\n"
     ]
    },
    {
     "data": {
      "image/png": "[encoded data removed]",
      "text/plain": [
       "<Figure size 1080x360 with 2 Axes>"
      ]
     },
     "metadata": {},
     "output_type": "display_data"
    }
   ],
   "source": [
    "# Evaluating the model\n",
    "evaluation = model3.evaluate(x_test, y_test, verbose = 0)\n",
    "print(\"Loss on validation set: %.2f\" % evaluation[0])\n",
    "print(\"Accuracy on validation set: %.2f%%\" % (evaluation[1]*100))\n",
    "\n",
    "# Ploting accuracy and loss for the model\n",
    "plot_model_history(model_hist3)"
   ]
  },
  {
   "cell_type": "code",
   "execution_count": null,
   "metadata": {},
   "outputs": [],
   "source": []
  },
  {
   "cell_type": "code",
   "execution_count": 143,
   "metadata": {},
   "outputs": [
    {
     "data": {
      "image/png": "[encoded data removed]",
      "text/plain": [
       "<Figure size 1080x360 with 2 Axes>"
      ]
     },
     "metadata": {},
     "output_type": "display_data"
    }
   ],
   "source": [
    "compare(model_hist2, model_hist3)"
   ]
  },
  {
   "cell_type": "code",
   "execution_count": null,
   "metadata": {},
   "outputs": [],
   "source": []
  },
  {
   "cell_type": "markdown",
   "metadata": {},
   "source": [
    "# knn"
   ]
  },
  {
   "cell_type": "code",
   "execution_count": 1,
   "metadata": {},
   "outputs": [
    {
     "name": "stderr",
     "output_type": "stream",
     "text": [
      "Using TensorFlow backend.\n"
     ]
    }
   ],
   "source": [
    "import pandas as pd\n",
    "import numpy as np\n",
    "import matplotlib.pyplot as plt\n",
    "import seaborn as sns\n",
    "%matplotlib inline\n",
    "from sklearn.ensemble import RandomForestClassifier\n",
    "\n",
    "np.random.seed(2)\n",
    "from sklearn.model_selection import train_test_split\n",
    "from sklearn.metrics import confusion_matrix\n",
    "import itertools\n",
    "\n",
    "from keras.datasets import cifar10\n",
    "from keras.utils.np_utils import to_categorical # convert to one-hot-encoding\n",
    "from keras.models import Sequential\n",
    "from keras.layers import Dense, Dropout, Flatten, Conv2D, MaxPool2D, BatchNormalization\n",
    "from keras.optimizers import RMSprop\n",
    "from keras.preprocessing.image import ImageDataGenerator\n",
    "from keras.callbacks import ReduceLROnPlateau\n",
    "sns.set(style='white', context='notebook', palette='deep')\n",
    "\n",
    "(X_train, Y_train), (X_test, Y_test) = cifar10.load_data()\n",
    "\n",
    "Y_train = Y_train.transpose()[0]\n",
    "Y_test = Y_test.transpose()[0]"
   ]
  },
  {
   "cell_type": "code",
   "execution_count": 2,
   "metadata": {},
   "outputs": [
    {
     "name": "stdout",
     "output_type": "stream",
     "text": [
      "[[ 59  62  63 ... 123  92  72]\n",
      " [154 177 187 ... 143 133 144]\n",
      " [255 255 255 ...  80  86  84]\n",
      " ...\n",
      " [ 35 178 235 ...  12  31  50]\n",
      " [189 211 240 ... 195 190 171]\n",
      " [229 229 239 ... 163 163 161]]\n"
     ]
    },
    {
     "name": "stderr",
     "output_type": "stream",
     "text": [
      "/Library/Frameworks/Python.framework/Versions/3.6/lib/python3.6/site-packages/sklearn/utils/validation.py:475: DataConversionWarning: Data with input dtype uint8 was converted to float64 by MinMaxScaler.\n",
      "  warnings.warn(msg, DataConversionWarning)\n"
     ]
    }
   ],
   "source": [
    "#Processing loaded images to get prepared for KNN algorithm\n",
    "from sklearn.preprocessing import MinMaxScaler\n",
    "#Convert to each image to 1-D vector\n",
    "X_train = X_train.reshape(X_train.shape[0],32*32*3)\n",
    "X_test = X_test.reshape(X_test.shape[0],32*32*3)\n",
    "print(X_train)\n",
    "#Scale test_images_vector\n",
    "scaler = MinMaxScaler()\n",
    "X_train = scaler.fit_transform(X_train)\n",
    "X_test = scaler.fit_transform(X_test)"
   ]
  },
  {
   "cell_type": "code",
   "execution_count": null,
   "metadata": {},
   "outputs": [],
   "source": [
    "#Applying KNN algorithm\n",
    "from sklearn.neighbors import KNeighborsClassifier\n",
    "\n",
    "k = [1,2,3,10,20,30,50,70,100,200]\n",
    "for i in k:\n",
    "    model = KNeighborsClassifier(weights = 'distance',  n_neighbors = i, algorithm = 'auto', n_jobs = 6,leaf_size = 60)\n",
    "    model.fit(X_train, Y_train)\n",
    "    preds = model.predict(X_test)\n",
    "    print('When k = %s, Test Accuracy = %f' % (i, np.mean(Y_test==preds)))"
   ]
  },
  {
   "cell_type": "markdown",
   "metadata": {},
   "source": [
    "# Random forest"
   ]
  },
  {
   "cell_type": "code",
   "execution_count": null,
   "metadata": {},
   "outputs": [],
   "source": [
    "import pandas as pd\n",
    "import numpy as np\n",
    "import matplotlib.pyplot as plt\n",
    "import seaborn as sns\n",
    "%matplotlib inline\n",
    "from sklearn.ensemble import RandomForestClassifier\n",
    "from sklearn.model_selection import train_test_split\n",
    "from sklearn.metrics import confusion_matrix\n",
    "import itertools\n",
    "\n",
    "from keras.datasets import cifar10"
   ]
  },
  {
   "cell_type": "code",
   "execution_count": 3,
   "metadata": {},
   "outputs": [],
   "source": [
    "(X_train, Y_train), (X_test, Y_test) = cifar10.load_data()"
   ]
  },
  {
   "cell_type": "code",
   "execution_count": 4,
   "metadata": {},
   "outputs": [],
   "source": [
    "#reshape the matrix\n",
    "x_train_rows = X_train.reshape(X_train.shape[0], 32 * 32 *3)\n",
    "x_test_rows = X_test.reshape(X_test.shape[0], 32*32*3)\n",
    "Y_train = Y_train.reshape(Y_train.shape[0],)\n",
    "Y_val = Y_test.reshape(Y_test.shape[0],)\n",
    "from sklearn import preprocessing \n",
    "normalizer = preprocessing.Normalizer()\n",
    "x_train_rows = normalizer.fit_transform(x_train_rows)\n",
    "x_test_rows = normalizer.fit_transform(x_test_rows)"
   ]
  },
  {
   "cell_type": "code",
   "execution_count": 5,
   "metadata": {},
   "outputs": [],
   "source": [
    "alg = RandomForestClassifier(max_depth = 100, n_estimators=50, random_state=300)\n",
    "alg.fit(x_train_rows, Y_train)\n",
    "predict = alg.predict(x_test_rows)"
   ]
  },
  {
   "cell_type": "code",
   "execution_count": 6,
   "metadata": {},
   "outputs": [
    {
     "data": {
      "text/plain": [
       "0.4433"
      ]
     },
     "execution_count": 6,
     "metadata": {},
     "output_type": "execute_result"
    }
   ],
   "source": [
    "(Y_val == predict).mean()"
   ]
  },
  {
   "cell_type": "markdown",
   "metadata": {},
   "source": [
    "# Desicion Tree"
   ]
  },
  {
   "cell_type": "code",
   "execution_count": null,
   "metadata": {},
   "outputs": [],
   "source": [
    "from sklearn.tree import DecisionTreeClassifier  \n",
    "from sklearn.model_selection import cross_val_score\n",
    "clf = DecisionTreeClassifier(random_state=0)  \n",
    "scores = cross_val_score(clf, x_train_rows, Y_train)  "
   ]
  },
  {
   "cell_type": "code",
   "execution_count": null,
   "metadata": {},
   "outputs": [],
   "source": [
    "clf = DecisionTreeClassifier(random_state=0)  \n",
    "clf.fit(x_train_rows, Y_train)\n",
    "predict = clf.predict(x_test_rows) \n",
    "(Y_val == predict).mean()"
   ]
  }
 ],
 "metadata": {
  "kernelspec": {
   "display_name": "Python 3",
   "language": "python",
   "name": "python3"
  },
  "language_info": {
   "codemirror_mode": {
    "name": "ipython",
    "version": 3
   },
   "file_extension": ".py",
   "mimetype": "text/x-python",
   "name": "python",
   "nbconvert_exporter": "python",
   "pygments_lexer": "ipython3",
   "version": "3.6.4"
  }
 },
 "nbformat": 4,
 "nbformat_minor": 2
}
